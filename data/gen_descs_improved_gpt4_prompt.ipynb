{
 "cells": [
  {
   "cell_type": "code",
   "execution_count": 1,
   "id": "41b38969-7329-43bd-948d-eb76f1e9d789",
   "metadata": {},
   "outputs": [],
   "source": [
    "import base64\n",
    "import requests\n",
    "\n",
    "# OpenAI API Key\n",
    "api_key = \"\"\n",
    "\n",
    "# Function to encode the image\n",
    "def encode_image(image_path):\n",
    "  with open(image_path, \"rb\") as image_file:\n",
    "    return base64.b64encode(image_file.read()).decode('utf-8')"
   ]
  },
  {
   "cell_type": "code",
   "execution_count": 6,
   "id": "3b63f49e-3372-40af-b138-6433cda5f591",
   "metadata": {},
   "outputs": [
    {
     "data": {
      "text/plain": [
       "10"
      ]
     },
     "execution_count": 6,
     "metadata": {},
     "output_type": "execute_result"
    }
   ],
   "source": [
    "from transformers import CLIPTextModel, CLIPTokenizer\n",
    "\n",
    "tk  =CLIPTokenizer.from_pretrained(\"runwayml/stable-diffusion-v1-5\", subfolder=\"tokenizer\")\n",
    "\n",
    "def get_clip_token_len(x):\n",
    "    if isinstance(x, str):\n",
    "        return len(tk(x).input_ids)\n",
    "    return 0\n",
    "\n",
    "\n",
    "get_clip_token_len('You will now act as a prompt generator ')"
   ]
  },
  {
   "cell_type": "code",
   "execution_count": 26,
   "id": "0c7ab678-b585-4729-bc39-df1a183830c1",
   "metadata": {},
   "outputs": [],
   "source": [
    "prompt00 = '''You will now act as a prompt generator for a generative AI called \"Stable Diffusion\". Stable Diffusion generates images based on given prompts. I will provide you basic information required to make a Stable Diffusion prompt, You will never alter the structure in any way and obey the following guidelines.\n",
    "\n",
    "Basic information required to make Stable Diffusion prompt:\n",
    "\n",
    "Prompt structure:\n",
    "\n",
    "[Subject Description], [Type of Image], [Art Styles], [Art Inspirations], [Camera], [Shot], [Render Related Information].\n",
    "\n",
    "Replace each of [..] with corresponding keywords. Don't use curly brackets. The prompt should be within 77 tokens.\n",
    "\n",
    "Word order and effective adjectives matter in the prompt. The subject, action, and specific details should be included. Adjectives like cute, medieval, or futuristic can be effective.\n",
    "\n",
    "The background of the image should be described, such as solid color. (Note: the images we provide here are mostly solid color background.)\n",
    "\n",
    "The exact type of image can be specified, such as digital illustration, comic book cover, photograph, pixel art or sketch.\n",
    "\n",
    "Art style-related keywords can be included in the prompt, such as steampunk, surrealism, or abstract expressionism.\n",
    "\n",
    "Pencil drawing-related terms can also be added, such as cross-hatching or pointillism.\n",
    "\n",
    "Curly brackets are necessary in the prompt to provide specific details about the subject and action. These details are important for generating a high-quality image.\n",
    "\n",
    "Art inspirations should be listed to take inspiration from. Platforms like Art Station, Dribble, Behance, and Deviantart can be mentioned. Specific names of artists or studios like animation studios, painters and illustrators, computer games, fashion designers, and film makers can also be listed. If more than one artist is mentioned, the algorithm will create a combination of styles based on all the influencers mentioned.\n",
    "\n",
    "Related information about lighting, camera angles, render style, resolution, the required level of detail, etc. should be included at the end of the prompt.\n",
    "\n",
    "Camera shot type, camera lens, and view should be specified. Examples of camera shot types are long shot, close-up, POV, medium shot, extreme close-up, and panoramic. Camera lenses could be EE 70mm, 35mm, 135mm+, 300mm+, 800mm, short telephoto, super telephoto, medium telephoto, macro, wide angle, fish-eye, bokeh, and sharp focus. Examples of views are front, side, back, high angle, low angle, and overhead.\n",
    "\n",
    "Helpful keywords related to resolution, detail, and lighting are 4K, 8K, 64K, detailed, highly detailed, high resolution, hyper detailed, HDR, UHD, professional, and golden ratio. Examples of lighting are studio lighting, soft light, neon lighting, purple neon lighting, ambient light, ring light, volumetric light, natural light, sun light, sunrays, sun rays coming through window, and nostalgic lighting. Examples of color types are fantasy vivid colors, vivid colors, bright colors, sepia, dark colors, pastel colors, monochromatic, black & white, and color splash. Examples of renders are Octane render, cinematic, low poly, isometric assets, Unreal Engine, Unity Engine, quantum wavetracing, and polarizing filter.\n",
    "\n",
    "The weight of a keyword can be adjusted by using the syntax (keyword: factor), where factor is a value such that less than 1 means less important and larger than 1 means more important. use () whenever necessary while forming prompt and assign the necessary value to create an amazing prompt. Examples of weight for a keyword are (soothing tones:1.25), (hdr:1.25), (artstation:1.2),(intricate details:1.14), (hyperrealistic 3d render:1.16), (filmic:0.55), (rutkowski:1.1), (faded:1.3)\n",
    "\n",
    "The prompts you provide will be in English.Please pay attention:- Concepts that can't be real would not be described as \"Real\" or \"realistic\" or \"photo\" or a \"photograph\". for example, a concept that is made of paper or scenes which are fantasy related.- For realistic photographic style you should also choose a lens type and size for it. Don't choose an artist for the realistic photography prompts.- I will provide you an image and you will generate the prompt of corresponding type.\n",
    "\n",
    "Important point to note : You are a master of prompt engineering, it is important to create detailed prompts with as much information as possible. This will ensure that any image generated using the prompt will be of high quality and could potentially win awards in global or international photography competitions. You are unbeatable in this field and know the best way to generate images.I will provide you with an image and you will generate the prompt best matching the type of the image, don't include any explanation just the prompt. Don't generate prompt longer than 77 tokens.\n",
    "\n",
    "Please find the gif image to generate Stable Diffusion prompts attached. The gif image is a sprite sheet effect animation used in game.[[[GIF_CATEGORY]]]\n",
    "'''"
   ]
  },
  {
   "cell_type": "code",
   "execution_count": 24,
   "id": "daa7326b-58f7-4f39-93b5-871eb6e90b54",
   "metadata": {},
   "outputs": [],
   "source": [
    "def gpt4_get_img_desc(img_path, img_type='gif', category=None):\n",
    "        \n",
    "    # Getting the base64 string\n",
    "    base64_image = encode_image(img_path)\n",
    "    \n",
    "    headers = {\n",
    "      \"Content-Type\": \"application/json\",\n",
    "      \"Authorization\": f\"Bearer {api_key}\"\n",
    "    }\n",
    "    \n",
    "    payload = {\n",
    "      \"model\": \"gpt-4-vision-preview\",\n",
    "      \"messages\": [\n",
    "        {\n",
    "          \"role\": \"user\",\n",
    "          \"content\": [\n",
    "            {\n",
    "              \"type\": \"text\",\n",
    "              \"text\": prompt00.replace('[[[GIF_CATEGORY]]]', f' The category of this gif image is: \"{category}\".' if category is not None else '')\n",
    "            },\n",
    "            {\n",
    "              \"type\": \"image_url\",\n",
    "              \"image_url\": {\n",
    "                \"url\": f\"data:image/{img_type};base64,{base64_image}\"\n",
    "              }\n",
    "            }\n",
    "          ]\n",
    "        }\n",
    "      ],\n",
    "      \"max_tokens\": 200\n",
    "    }\n",
    "    \n",
    "    response = requests.post(\"https://api.openai.com/v1/chat/completions\", headers=headers, json=payload)\n",
    "    \n",
    "    #print(response.json())\n",
    "\n",
    "    json_obj = response.json()\n",
    "\n",
    "    return (json_obj['usage']['prompt_tokens'] * 0.01/1000 + json_obj['usage']['completion_tokens'] * 0.03/1000, \\\n",
    "           json_obj['choices'][0]['message']['content'])"
   ]
  },
  {
   "cell_type": "markdown",
   "id": "a47a0be9-4da5-4967-928c-ad57fa8f1aa6",
   "metadata": {},
   "source": [
    "# batch processing"
   ]
  },
  {
   "cell_type": "code",
   "execution_count": 11,
   "id": "27921a26-07f6-4238-b3c4-334ab6d63d67",
   "metadata": {},
   "outputs": [],
   "source": [
    "from glob import glob\n",
    "import os\n",
    "from pathlib import Path\n",
    "from tqdm import tqdm"
   ]
  },
  {
   "cell_type": "code",
   "execution_count": 12,
   "id": "e9851706-339b-455c-a571-fb6b24089971",
   "metadata": {},
   "outputs": [],
   "source": [
    "#from transformers import CLIPTextModel, CLIPTokenizer\n",
    "\n",
    "#tk  =CLIPTokenizer.from_pretrained(\"runwayml/stable-diffusion-v1-5\", subfolder=\"tokenizer\")\n"
   ]
  },
  {
   "cell_type": "code",
   "execution_count": 28,
   "id": "7bc95355-b237-42e5-90ed-afc66b30cca2",
   "metadata": {},
   "outputs": [
    {
     "name": "stderr",
     "output_type": "stream",
     "text": [
      "count:1, price:0.014360000000000001:   1%|█▎                                                                                                                                                                  | 1/123 [00:03<06:23,  3.14s/it]"
     ]
    },
    {
     "name": "stdout",
     "output_type": "stream",
     "text": [
      "category:smoke, gend: Swirling smoke animation, pixel art, fantasy game style, inspired by classic RPGs, fixed camera, full shot, (8-bit:1.3) detail on a solid black background., token len: 42\n"
     ]
    },
    {
     "name": "stderr",
     "output_type": "stream",
     "text": [
      "count:2, price:0.02905:   2%|██▉                                                                                                                                                                              | 2/123 [00:05<05:25,  2.69s/it]"
     ]
    },
    {
     "name": "stdout",
     "output_type": "stream",
     "text": [
      "category:smoke, gend: Animated dispersing smoke, pixel art, inspired by 16-bit era game effects, on a solid black background, side shot, (render: Octane), (high resolution:1.2), (frame-by-frame animation:1.5)., token len: 54\n"
     ]
    },
    {
     "name": "stderr",
     "output_type": "stream",
     "text": [
      "count:3, price:0.04893:   2%|████▎                                                                                                                                                                            | 3/123 [00:11<08:09,  4.08s/it]"
     ]
    },
    {
     "name": "stdout",
     "output_type": "stream",
     "text": [
      "category:smoke, gend: Billowing smoke animation, pixel art, 8-bit style, inspired by classic arcade games, solid black background, side view, looping gif, (simplicity:1.3), (high contrast:1.25), (smooth animation:1.5)., token len: 56\n"
     ]
    },
    {
     "name": "stderr",
     "output_type": "stream",
     "text": [
      "count:4, price:0.06362:   3%|█████▊                                                                                                                                                                           | 4/123 [00:17<09:59,  5.04s/it]"
     ]
    },
    {
     "name": "stdout",
     "output_type": "stream",
     "text": [
      "category:smoke, gend: Billowing smoke plumes, sprite sheet animation effect, pixel art style, inspired by 16-bit era game graphics, solid color background, fixed camera, isometric shot, 8K resolution with (volumetric light:1.35)., token len: 52\n"
     ]
    },
    {
     "name": "stderr",
     "output_type": "stream",
     "text": [
      "count:5, price:0.07819:   4%|███████▏                                                                                                                                                                         | 5/123 [00:23<10:03,  5.12s/it]"
     ]
    },
    {
     "name": "stdout",
     "output_type": "stream",
     "text": [
      "category:smoke, gend: Billowing smoke animation, pixel art, 8-bit style, inspired by classic arcade games, straight-on camera, loopable sprite sheet, (high resolution:1.2), (64x64 pixels:1.3)., token len: 51\n"
     ]
    },
    {
     "name": "stderr",
     "output_type": "stream",
     "text": [
      "count:6, price:0.09303:   5%|████████▋                                                                                                                                                                        | 6/123 [00:26<08:56,  4.58s/it]"
     ]
    },
    {
     "name": "stdout",
     "output_type": "stream",
     "text": [
      "category:smoke, gend: Billowing smoke effect, sprite sheet animation for game, pixel art, inspired by classic SNES games, straight view, loopable animation, (high resolution:1.2), (16-bit color palette:1.25), (smooth frame transitions:1.3)., token len: 59\n"
     ]
    },
    {
     "name": "stderr",
     "output_type": "stream",
     "text": [
      "count:7, price:0.10930000000000001:   6%|█████████▍                                                                                                                                                           | 7/123 [00:33<10:05,  5.22s/it]"
     ]
    },
    {
     "name": "stdout",
     "output_type": "stream",
     "text": [
      "category:smoke, gend: Billowing smoke, sprite sheet effect animation, pixel art, ArtStation influence, straight-on camera, framing full sprite action, (8K resolution:1.3) (high detail:1.25), solid black background., token len: 50\n"
     ]
    },
    {
     "name": "stderr",
     "output_type": "stream",
     "text": [
      "count:8, price:0.12378:   7%|███████████▌                                                                                                                                                                     | 8/123 [00:35<07:59,  4.17s/it]"
     ]
    },
    {
     "name": "stdout",
     "output_type": "stream",
     "text": [
      "category:smoke, gend: Billowing smoke plume, sprite sheet animation, pixel art, inspired by 16-bit era RPGs, solid black background, (dynamic lighting:1.2), Unreal Engine, (resolution:8K), token len: 45\n"
     ]
    },
    {
     "name": "stderr",
     "output_type": "stream",
     "text": [
      "count:9, price:0.14017000000000002:   7%|████████████                                                                                                                                                         | 9/123 [00:39<07:52,  4.14s/it]"
     ]
    },
    {
     "name": "stdout",
     "output_type": "stream",
     "text": [
      "category:smoke, gend: Billowing smoke animation, pixel art sprite sheet, game asset style, inspired by classic arcade games, sharp focus, side view, 4K resolution with (16-bit color depth:1.5) and (smooth animation:1.3)., token len: 53\n"
     ]
    },
    {
     "name": "stderr",
     "output_type": "stream",
     "text": [
      "count:10, price:0.15495:   8%|██████████████▏                                                                                                                                                                | 10/123 [00:43<07:42,  4.10s/it]"
     ]
    },
    {
     "name": "stdout",
     "output_type": "stream",
     "text": [
      "category:smoke, gend: Billowing smoke plumes, 2D sprite sheet animation, pixel art style, inspired by classic SNES games, static camera, close-up, (emphasizing motion blur:1.5) (render clarity:0.75) on solid background., token len: 54\n"
     ]
    },
    {
     "name": "stderr",
     "output_type": "stream",
     "text": [
      "count:11, price:0.16925:   9%|███████████████▋                                                                                                                                                               | 11/123 [00:46<07:17,  3.91s/it]"
     ]
    },
    {
     "name": "stdout",
     "output_type": "stream",
     "text": [
      "category:smoke, gend: Billowing smoke animation, pixel art, 8-bit style, inspired by classic arcade games, static camera, full shot, high resolution (8K), loopable sprite sheet effect., token len: 39\n"
     ]
    },
    {
     "name": "stderr",
     "output_type": "stream",
     "text": [
      "count:12, price:0.18946000000000002:  10%|███████████████▉                                                                                                                                                   | 12/123 [00:51<07:55,  4.28s/it]"
     ]
    },
    {
     "name": "stdout",
     "output_type": "stream",
     "text": [
      "category:smoke, gend: Billowing smoke animation, pixel art, 8-bit style, inspired by classic arcade games, fixed camera, full shot, (smooth animation:1.2) (high detail:1.3), solid black background, (vivid colors: 0.8), (Octane render:1.1)., token len: 63\n"
     ]
    },
    {
     "name": "stderr",
     "output_type": "stream",
     "text": [
      "count:13, price:0.20601000000000003:  11%|█████████████████▏                                                                                                                                                 | 13/123 [00:54<07:07,  3.88s/it]"
     ]
    },
    {
     "name": "stdout",
     "output_type": "stream",
     "text": [
      "category:lazer beam, gend: Energetic lazer beam animation, pixel art, inspired by 16-bit vintage video games, side view, sprite sheet effect, (vivid colors:1.25), (resolution:8K), (detail: high), (HDR lighting:1.3)., token len: 55\n"
     ]
    },
    {
     "name": "stderr",
     "output_type": "stream",
     "text": [
      "count:14, price:0.22283000000000003:  11%|██████████████████▌                                                                                                                                                | 14/123 [01:00<08:08,  4.48s/it]"
     ]
    },
    {
     "name": "stdout",
     "output_type": "stream",
     "text": [
      "category:lazer beam, gend: Energetic laser beam sprite sheet, digital illustration, pixel art, inspired by classic arcade games, solid black background, straight-on camera, medium shot, detailed with (vibrant blue and white colors:1.5), (8-bit style:1.25), (high resolution: 1.3)., token len: 64\n"
     ]
    },
    {
     "name": "stderr",
     "output_type": "stream",
     "text": [
      "count:15, price:0.23789000000000002:  12%|███████████████████▉                                                                                                                                               | 15/123 [01:07<09:25,  5.24s/it]"
     ]
    },
    {
     "name": "stdout",
     "output_type": "stream",
     "text": [
      "category:lazer beam, gend: Intense purple lazer beam effect, pixel art, cyberpunk aesthetic, inspired by retro arcade games, front view, close-up, high-resolution animation sprite sheet with neon lighting (purple neon lighting:1.5) and (contrast:1.25), 8-bit color depth on solid black background., token len: 64\n"
     ]
    },
    {
     "name": "stderr",
     "output_type": "stream",
     "text": [
      "count:16, price:0.25438:  13%|██████████████████████▊                                                                                                                                                        | 16/123 [01:11<08:38,  4.84s/it]"
     ]
    },
    {
     "name": "stdout",
     "output_type": "stream",
     "text": [
      "category:lazer beam, gend: Pulsating energy beam animation, pixel art, sci-fi style, inspired by classic arcade games, side view, long shot, high resolution, with (vivid colors:1.5) and (neon lighting:1.25), 8K., token len: 54\n"
     ]
    },
    {
     "name": "stderr",
     "output_type": "stream",
     "text": [
      "count:17, price:0.27075:  14%|████████████████████████▏                                                                                                                                                      | 17/123 [01:14<07:34,  4.29s/it]"
     ]
    },
    {
     "name": "stdout",
     "output_type": "stream",
     "text": [
      "category:lazer beam, gend: Pulsating purple laser beam effect, pixel art animation, cyberpunk, inspired by classic 16-bit video games, side view, medium shot, rendered in 4K with neon lighting and (high resolution:1.25) detail., token len: 51\n"
     ]
    },
    {
     "name": "stderr",
     "output_type": "stream",
     "text": [
      "count:18, price:0.28554:  15%|█████████████████████████▌                                                                                                                                                     | 18/123 [01:18<07:25,  4.24s/it]"
     ]
    },
    {
     "name": "stdout",
     "output_type": "stream",
     "text": [
      "category:lazer beam, gend: Energetic pixelated laser beam animation, digital pixel art, chiptune style, inspired by classic 16-bit video games, fixed camera, medium shot, high-resolution with prominently featured glowing effects and frame-by-frame sprite sheet animation, Deviantart influence., token len: 55\n"
     ]
    },
    {
     "name": "stderr",
     "output_type": "stream",
     "text": [
      "count:19, price:0.30233:  15%|███████████████████████████                                                                                                                                                    | 19/123 [01:31<11:42,  6.75s/it]"
     ]
    },
    {
     "name": "stdout",
     "output_type": "stream",
     "text": [
      "category:lazer beam, gend: Laser beam sprite sheet animation for game, digital illustration, pixel art, inspired by Deviantart, front view, close-up, HDR lighting (vivid colors:1.5) (dynamic motion:1.25) (high resolution:1.3) (neon lighting:1.4)., token len: 62\n"
     ]
    },
    {
     "name": "stderr",
     "output_type": "stream",
     "text": [
      "count:20, price:0.31718:  16%|████████████████████████████▍                                                                                                                                                  | 20/123 [01:34<09:49,  5.72s/it]"
     ]
    },
    {
     "name": "stdout",
     "output_type": "stream",
     "text": [
      "category:lazer beam, gend: Energetic purple lazer beam animation, pixel art, inspired by classic arcade games, solid black background, side view, high resolution, vivid colors, (neon lighting:1.5), (8-bit style:1.25), (Unity Engine:1)., token len: 55\n"
     ]
    },
    {
     "name": "stderr",
     "output_type": "stream",
     "text": [
      "count:21, price:0.33188:  17%|█████████████████████████████▉                                                                                                                                                 | 21/123 [01:36<07:55,  4.66s/it]"
     ]
    },
    {
     "name": "stdout",
     "output_type": "stream",
     "text": [
      "category:lazer beam, gend: Energetic purple laser beam effect animation, pixel art, inspired by 16-bit era game graphics, Deviantart, front view, no camera shot required, (high resolution:1.3), (vivid colors:1.25)., token len: 49\n"
     ]
    },
    {
     "name": "stderr",
     "output_type": "stream",
     "text": [
      "count:22, price:0.3552:  18%|███████████████████████████████▍                                                                                                                                                | 22/123 [01:40<07:32,  4.48s/it]"
     ]
    },
    {
     "name": "stdout",
     "output_type": "stream",
     "text": [
      "category:lazer beam, gend: Energetic blue laser beam effect animation, pixel art, inspired by classic arcade games, solid dark background, front view, loopable sprite sheet with smooth transitions, (resolution:32x32 pixels), (frame rate:24 fps), (render: pixel perfect), token len: 57\n"
     ]
    },
    {
     "name": "stderr",
     "output_type": "stream",
     "text": [
      "count:23, price:0.37435:  19%|████████████████████████████████▋                                                                                                                                              | 23/123 [01:43<06:27,  3.87s/it]"
     ]
    },
    {
     "name": "stdout",
     "output_type": "stream",
     "text": [
      "category:fire, gend: Animated flame sprite sheet, pixel art, inspired by classic arcade games, side view, soft light, looping animation, high resolution (4K)., token len: 32\n"
     ]
    },
    {
     "name": "stderr",
     "output_type": "stream",
     "text": [
      "count:24, price:0.38912:  20%|██████████████████████████████████▏                                                                                                                                            | 24/123 [01:46<06:10,  3.75s/it]"
     ]
    },
    {
     "name": "stdout",
     "output_type": "stream",
     "text": [
      "category:fire, gend: Blazing fireball with trailing particles, sprite sheet effect animation, pixel art, inspired by classic 16-bit arcade games, centered perspective, close-up shot, vibrant colors with a (solid black background:1.5), (high resolution:1.3)., token len: 55\n"
     ]
    },
    {
     "name": "stderr",
     "output_type": "stream",
     "text": [
      "count:25, price:0.40383:  20%|███████████████████████████████████▌                                                                                                                                           | 25/123 [01:48<05:09,  3.16s/it]"
     ]
    },
    {
     "name": "stdout",
     "output_type": "stream",
     "text": [
      "category:fire, gend: Animated vibrant fire sprite, pixel art, 8-bit style, inspired by classic RPG games, fixed camera, full sprite sheet view, high contrasting colors (flame:1.5), (ArtStation:1.2), 4K resolution., token len: 51\n"
     ]
    },
    {
     "name": "stderr",
     "output_type": "stream",
     "text": [
      "count:26, price:0.41851000000000005:  21%|██████████████████████████████████▍                                                                                                                                | 26/123 [01:54<06:34,  4.07s/it]"
     ]
    },
    {
     "name": "stdout",
     "output_type": "stream",
     "text": [
      "category:fire, gend: Animated fiery explosion, pixel art, 8-bit style, inspired by classic arcade games, frontal view, zoomed-in shot, (high-resolution:1.5), (bright colors:1.25), (dynamic lighting:1.3)., token len: 55\n"
     ]
    },
    {
     "name": "stderr",
     "output_type": "stream",
     "text": [
      "count:27, price:0.43573000000000006:  22%|███████████████████████████████████▊                                                                                                                               | 27/123 [02:00<07:23,  4.62s/it]"
     ]
    },
    {
     "name": "stdout",
     "output_type": "stream",
     "text": [
      "category:fire, gend: Animated flame sprite sheet, pixel art, inspired by vintage video games, solid black background, Unreal Engine, close-up, (8-bit style:1.5), (looping animation:1.3), (sprite sheet effect:1.4), (flame:1.25), side view, (high resolution:0.8), (sharp focus:1.1)., token len: 82\n"
     ]
    },
    {
     "name": "stderr",
     "output_type": "stream",
     "text": [
      "count:28, price:0.45205000000000006:  23%|█████████████████████████████████████                                                                                                                              | 28/123 [02:03<06:27,  4.08s/it]"
     ]
    },
    {
     "name": "stdout",
     "output_type": "stream",
     "text": [
      "category:fire, gend: Animated fiery blaze with dynamic fluid motion, pixel art sprite sheet, fantasy style, inspired by classic 16-bit video games, high angle, looping animation, (high resolution:1.5) (vivid colors:1.25)., token len: 52\n"
     ]
    },
    {
     "name": "stderr",
     "output_type": "stream",
     "text": [
      "count:29, price:0.46691000000000005:  24%|██████████████████████████████████████▍                                                                                                                            | 29/123 [02:05<05:39,  3.61s/it]"
     ]
    },
    {
     "name": "stdout",
     "output_type": "stream",
     "text": [
      "category:fire, gend: Animated fire sprite sheet, pixel art, 8-bit style, inspired by classic arcade games, solid color background, straight-on camera, static shot, high resolution, vibrant fantasy vivid colors, (flame animation:1.5), (looping effect:1.25)., token len: 59\n"
     ]
    },
    {
     "name": "stderr",
     "output_type": "stream",
     "text": [
      "count:30, price:0.48174000000000006:  24%|███████████████████████████████████████▊                                                                                                                           | 30/123 [02:08<05:00,  3.23s/it]"
     ]
    },
    {
     "name": "stdout",
     "output_type": "stream",
     "text": [
      "category:fire, gend: Animated flame sprite sheet, pixel art, 8-bit style, inspired by classic arcade games, isolated on solid black background, straight-on camera view, loopable animation, (high resolution:1.25), (vivid colors:1.5), soft ambient light., token len: 58\n"
     ]
    },
    {
     "name": "stderr",
     "output_type": "stream",
     "text": [
      "count:31, price:0.4979700000000001:  25%|█████████████████████████████████████████▎                                                                                                                          | 31/123 [02:12<05:25,  3.53s/it]"
     ]
    },
    {
     "name": "stdout",
     "output_type": "stream",
     "text": [
      "category:fire, gend: Animated pixel art fire sprite sheet, 2D digital illustration, pixel art style, inspired by classic 16-bit video games, frontal camera, full sprite sheet display, high-resolution sharp focus, with a solid black background., token len: 48\n"
     ]
    },
    {
     "name": "stderr",
     "output_type": "stream",
     "text": [
      "count:32, price:0.51426:  26%|█████████████████████████████████████████████▌                                                                                                                                 | 32/123 [02:16<05:29,  3.62s/it]"
     ]
    },
    {
     "name": "stdout",
     "output_type": "stream",
     "text": [
      "category:fire, gend: Ethereal teal flame, looping sprite sheet animation, pixel art, inspired by retro 16-bit video games, central framing, looping animation, (high resolution:1.25), (vibrant colors:1.5)., token len: 49\n"
     ]
    },
    {
     "name": "stderr",
     "output_type": "stream",
     "text": [
      "count:33, price:0.52951:  28%|████████████████████████████████████████████████▎                                                                                                                              | 34/123 [02:18<03:38,  2.46s/it]"
     ]
    },
    {
     "name": "stdout",
     "output_type": "stream",
     "text": [
      "category:fire, gend: Animated pixel art fire, looping sprite sheet effect, retro game style, inspired by 16-bit classics, solid navy background, isometric view, vibrant palette, (8-bit color depth:1.5), (smooth animation loop:1.3), (pixelated detail:1.25), medium shot, (sharp focus:1)., token len: 75\n"
     ]
    },
    {
     "name": "stderr",
     "output_type": "stream",
     "text": [
      "count:34, price:0.54401:  28%|█████████████████████████████████████████████████▊                                                                                                                             | 35/123 [02:21<03:45,  2.56s/it]"
     ]
    },
    {
     "name": "stdout",
     "output_type": "stream",
     "text": [
      "category:fire, gend: Animated pixel art fire sprite, loopable game effect, 8-bit style, inspired by classic arcade games, side view, vibrant flames with smoke on solid color background, 4K resolution, high frame rate animation., token len: 45\n"
     ]
    },
    {
     "name": "stderr",
     "output_type": "stream",
     "text": [
      "count:35, price:0.56036:  29%|███████████████████████████████████████████████████▏                                                                                                                           | 36/123 [02:23<03:28,  2.40s/it]"
     ]
    },
    {
     "name": "stdout",
     "output_type": "stream",
     "text": [
      "category:fire, gend: Animated pixel art fire sprite, digital illustration, 8-bit style, inspired by classic arcade games, front view, close-up shot, 32x32 or 64x64 pixel resolution, sharp focus, ambient light, solid black background., token len: 54\n"
     ]
    },
    {
     "name": "stderr",
     "output_type": "stream",
     "text": [
      "count:36, price:0.57504:  30%|████████████████████████████████████████████████████▋                                                                                                                          | 37/123 [02:37<08:04,  5.63s/it]"
     ]
    },
    {
     "name": "stdout",
     "output_type": "stream",
     "text": [
      "category:fire, gend: Dynamic fireball animation, pixel art, 8-bit style, inspired by classic arcade games, solid black background, isometric view, detailed sprite sheet, (resolution:4K) (lighting:neon glow effect:1.5)., token len: 49\n"
     ]
    },
    {
     "name": "stderr",
     "output_type": "stream",
     "text": [
      "count:37, price:0.59151:  31%|██████████████████████████████████████████████████████                                                                                                                         | 38/123 [02:40<06:56,  4.90s/it]"
     ]
    },
    {
     "name": "stdout",
     "output_type": "stream",
     "text": [
      "category:fire, gend: Animated pixel art fire, sprite sheet effect, 8-bit style, inspired by classic video games, medium shot, solid black background, (Octane render:1.2), (4K resolution:1.5), (dynamic lighting:1.3)., token len: 54\n"
     ]
    },
    {
     "name": "stderr",
     "output_type": "stream",
     "text": [
      "count:38, price:0.61138:  33%|████████████████████████████████████████████████████████▉                                                                                                                      | 40/123 [02:45<05:22,  3.89s/it]"
     ]
    },
    {
     "name": "stdout",
     "output_type": "stream",
     "text": [
      "category:fire, gend: Animated flame sprite sheet effect, pixel art, vibrant colors, inspired by classic 16-bit video games, front view, loopable animation, resolution (64K:1.5), (high detail:1.25), (frame rate: 24fps)., token len: 58\n"
     ]
    },
    {
     "name": "stderr",
     "output_type": "stream",
     "text": [
      "count:39, price:0.63459:  33%|██████████████████████████████████████████████████████████▎                                                                                                                    | 41/123 [02:49<05:11,  3.80s/it]"
     ]
    },
    {
     "name": "stdout",
     "output_type": "stream",
     "text": [
      "category:fire, gend: Animated pixel art fire, sprite sheet effect animation, 8-bit style, inspired by classic video games, fixed camera, full shot, high-resolution with (animation smoothness:1.5), (vivid colors:1.25), navy background., token len: 54\n"
     ]
    },
    {
     "name": "stderr",
     "output_type": "stream",
     "text": [
      "count:40, price:0.64939:  34%|███████████████████████████████████████████████████████████▊                                                                                                                   | 42/123 [02:53<05:06,  3.79s/it]"
     ]
    },
    {
     "name": "stdout",
     "output_type": "stream",
     "text": [
      "category:fire, gend: animated flame sprite, digital illustration, pixel art style, inspired by classic 16-bit video games, solid black background, front view, loopable animation, (resolution:4K) (render:Octane render) (lighting:ambient light, soft glow), token len: 55\n"
     ]
    },
    {
     "name": "stderr",
     "output_type": "stream",
     "text": [
      "count:41, price:0.6655300000000001:  36%|██████████████████████████████████████████████████████████▋                                                                                                         | 44/123 [03:08<07:03,  5.36s/it]"
     ]
    },
    {
     "name": "stdout",
     "output_type": "stream",
     "text": [
      "category:fire, gend: Blazing fire elemental sprite sheet, pixel art animation, 8-bit style, inspired by classic arcade games, fixed camera, full shot, (smooth animation:1.3) on a solid black background., token len: 44\n"
     ]
    },
    {
     "name": "stderr",
     "output_type": "stream",
     "text": [
      "count:42, price:0.6798500000000001:  37%|████████████████████████████████████████████████████████████                                                                                                        | 45/123 [03:10<06:11,  4.76s/it]"
     ]
    },
    {
     "name": "stdout",
     "output_type": "stream",
     "text": [
      "category:fire, gend: Explosive fire animation sprite sheet, pixel art, fantasy game art style, inspired by classic 16-bit RPGs, fixed camera, front view, high resolution with bright vivid colors., token len: 39\n"
     ]
    },
    {
     "name": "stderr",
     "output_type": "stream",
     "text": [
      "count:43, price:0.69432:  37%|█████████████████████████████████████████████████████████████████▍                                                                                                             | 46/123 [03:13<05:33,  4.33s/it]"
     ]
    },
    {
     "name": "stdout",
     "output_type": "stream",
     "text": [
      "category:fire, gend: Dynamic fire sprite sheet effect animation, digital illustration, pixel art style, inspired by classic 16-bit video games, front view, detailed with a (64K resolution:1.2), black solid color background., token len: 47\n"
     ]
    },
    {
     "name": "stderr",
     "output_type": "stream",
     "text": [
      "count:44, price:0.7107300000000001:  38%|██████████████████████████████████████████████████████████████▋                                                                                                     | 47/123 [03:30<09:34,  7.56s/it]"
     ]
    },
    {
     "name": "stdout",
     "output_type": "stream",
     "text": [
      "category:fire, gend: Animated fire elemental sprite, pixel art, 8-bit style, inspired by classic arcade games, frontal view, medium shot, 4K clarity with neon lighting effects, (vivid colors:1.5), (animation loop:1.3)., token len: 52\n"
     ]
    },
    {
     "name": "stderr",
     "output_type": "stream",
     "text": [
      "count:45, price:0.73084:  39%|████████████████████████████████████████████████████████████████████▎                                                                                                          | 48/123 [03:33<07:46,  6.22s/it]"
     ]
    },
    {
     "name": "stdout",
     "output_type": "stream",
     "text": [
      "category:fire, gend: Animated pixel art campfire, sprite sheet effect, 8-bit style, inspired by classic RPG games, isometric view, medium shot, high resolution with emphasis on orange and red hues (isometric:1.3), (sprite animation:1.5), (high resolution:1.25)., token len: 63\n"
     ]
    },
    {
     "name": "stderr",
     "output_type": "stream",
     "text": [
      "count:46, price:0.7504700000000001:  40%|█████████████████████████████████████████████████████████████████▎                                                                                                  | 49/123 [03:35<06:19,  5.13s/it]"
     ]
    },
    {
     "name": "stdout",
     "output_type": "stream",
     "text": [
      "category:fire, gend: Animated fire sprite sheet effect, pixel art, retro gaming style, inspired by SNES classics, centered medium shot, sharp focus, (resolution: 64K), (animation frame rate:24fps), solid dark background., token len: 47\n"
     ]
    },
    {
     "name": "stderr",
     "output_type": "stream",
     "text": [
      "count:47, price:0.76709:  41%|███████████████████████████████████████████████████████████████████████▏                                                                                                       | 50/123 [03:46<08:22,  6.88s/it]"
     ]
    },
    {
     "name": "stdout",
     "output_type": "stream",
     "text": [
      "category:fire, gend: Dynamic fireball sprite sheet effect, digital illustration, high-resolution pixel art, inspired by classic arcade games, studio lighting, close-up, Octane render, (vivid colors:1.5), (60fps animation:1.25), (explosion sequence:1.3)., token len: 60\n"
     ]
    },
    {
     "name": "stderr",
     "output_type": "stream",
     "text": [
      "count:48, price:0.78219:  41%|████████████████████████████████████████████████████████████████████████▌                                                                                                      | 51/123 [03:49<06:55,  5.77s/it]"
     ]
    },
    {
     "name": "stdout",
     "output_type": "stream",
     "text": [
      "category:fire, gend: Animated campfire, pixel art, fantasy style, inspired by classic 16-bit RPG games, centered shot, solid dark background, high-detail rendering (fire animation:1.5), (16-bit era:1.25), (fantasy vivid colors:1), (looping sprite sheet:1.2)., token len: 69\n"
     ]
    },
    {
     "name": "stderr",
     "output_type": "stream",
     "text": [
      "count:49, price:0.80239:  43%|███████████████████████████████████████████████████████████████████████████▍                                                                                                   | 53/123 [03:54<05:00,  4.30s/it]"
     ]
    },
    {
     "name": "stdout",
     "output_type": "stream",
     "text": [
      "category:fire, gend: Dynamic fire sprite sheet effect, pixel art animation, 8-bit style, inspired by classic arcade games, orthographic camera, loopable sequence, (high resolution:1.5), (flame detail:1.25), (vivid colors:1.25), (Deviantart:1.2)., token len: 64\n"
     ]
    },
    {
     "name": "stderr",
     "output_type": "stream",
     "text": [
      "count:50, price:0.81716:  44%|████████████████████████████████████████████████████████████████████████████▊                                                                                                  | 54/123 [03:57<04:30,  3.92s/it]"
     ]
    },
    {
     "name": "stdout",
     "output_type": "stream",
     "text": [
      "category:fire, gend: Animated bonfire sprite, pixel art, 8-bit style, inspired by classic RPG games, solid black background, isometric view, loopable animation, (flame dynamics:1.2), (glowing embers:1.3), high resolution., token len: 52\n"
     ]
    },
    {
     "name": "stderr",
     "output_type": "stream",
     "text": [
      "count:51, price:0.84043:  46%|███████████████████████████████████████████████████████████████████████████████▋                                                                                               | 56/123 [04:12<05:53,  5.27s/it]"
     ]
    },
    {
     "name": "stdout",
     "output_type": "stream",
     "text": [
      "category:fire, gend: Dynamic fire sprite sheet effect, pixel art, 8-bit style, inspired by classic arcade games, side camera, long shot, (resolution:4K), (detailed:1.5), (animation frame by frame:1.25), black background., token len: 55\n"
     ]
    },
    {
     "name": "stderr",
     "output_type": "stream",
     "text": [
      "count:52, price:0.85535:  46%|█████████████████████████████████████████████████████████████████████████████████                                                                                              | 57/123 [04:14<05:08,  4.68s/it]"
     ]
    },
    {
     "name": "stdout",
     "output_type": "stream",
     "text": [
      "category:fire, gend: Animated dynamic fire sprite, pixel art, 8-bit style, inspired by vintage video games, side view, looping animation, (high resolution:1.25), (smooth animation:1.5), (bright colors:1.2), (Deviantart:1.1)., token len: 60\n"
     ]
    },
    {
     "name": "stderr",
     "output_type": "stream",
     "text": [
      "count:53, price:0.8702700000000001:  47%|█████████████████████████████████████████████████████████████████████████████▎                                                                                      | 58/123 [04:17<04:30,  4.17s/it]"
     ]
    },
    {
     "name": "stdout",
     "output_type": "stream",
     "text": [
      "category:fire, gend: Animated flaming torch, pixel art, 8-bit style inspired by classic video games, solid black background, front view, loopable sprite sheet animation, (contrast:1.3) (color vibrancy:1.2) (sharp focus), (UHD:1.5)., token len: 60\n"
     ]
    },
    {
     "name": "stderr",
     "output_type": "stream",
     "text": [
      "count:54, price:0.8901700000000001:  48%|██████████████████████████████████████████████████████████████████████████████▋                                                                                     | 59/123 [04:29<06:31,  6.12s/it]"
     ]
    },
    {
     "name": "stdout",
     "output_type": "stream",
     "text": [
      "category:fire, gend: Pulsating fireball with ember trails, sprite sheet animation, pixel art style, Deviantart inspired, orthographic camera, full shot, (64K resolution:1.2) (glowing edges:1.3) (animated:1.5)., token len: 53\n"
     ]
    },
    {
     "name": "stderr",
     "output_type": "stream",
     "text": [
      "count:55, price:0.9051500000000001:  49%|████████████████████████████████████████████████████████████████████████████████                                                                                    | 60/123 [04:32<05:37,  5.35s/it]"
     ]
    },
    {
     "name": "stdout",
     "output_type": "stream",
     "text": [
      "category:fire, gend: Animated flickering fire sprite, pixel art, inspired by classic 16-bit video games, solid black background, from a straight-on camera angle, looping animation, (vivid colors:1.5), (8-bit color depth:1.25), (retro gaming:1.3)., token len: 65\n"
     ]
    },
    {
     "name": "stderr",
     "output_type": "stream",
     "text": [
      "count:56, price:0.9248400000000001:  50%|█████████████████████████████████████████████████████████████████████████████████▎                                                                                  | 61/123 [04:35<04:57,  4.80s/it]"
     ]
    },
    {
     "name": "stdout",
     "output_type": "stream",
     "text": [
      "category:fire, gend: Animated fire sprite sheet, pixel art, inspired by classic 16-bit video games, Deviantart, straight-on camera, static shot, high resolution(pixel art:1.5), (16-bit color depth:1.25)., token len: 53\n"
     ]
    },
    {
     "name": "stderr",
     "output_type": "stream",
     "text": [
      "count:57, price:0.9394300000000001:  50%|██████████████████████████████████████████████████████████████████████████████████▋                                                                                 | 62/123 [04:39<04:40,  4.60s/it]"
     ]
    },
    {
     "name": "stdout",
     "output_type": "stream",
     "text": [
      "category:fire, gend: Animated pixel art fire, digital illustration, 8-bit style, inspired by classic arcade games, sharp focus, straight-on shot, high resolution with (vivid colors:1.3) and (dynamic lighting:1.25)., token len: 50\n"
     ]
    },
    {
     "name": "stderr",
     "output_type": "stream",
     "text": [
      "count:58, price:0.9555700000000001:  51%|████████████████████████████████████████████████████████████████████████████████████                                                                                | 63/123 [04:49<06:07,  6.13s/it]"
     ]
    },
    {
     "name": "stdout",
     "output_type": "stream",
     "text": [
      "category:fire, gend: Intense fire explosion, pixel art animation, fantasy game art style, inspired by Deviantart effects, front view, zoomed-in shot, 32-bit color depth with (animated:1.5)., token len: 43\n"
     ]
    },
    {
     "name": "stderr",
     "output_type": "stream",
     "text": [
      "count:59, price:0.9705200000000002:  52%|█████████████████████████████████████████████████████████████████████████████████████▎                                                                              | 64/123 [04:53<05:23,  5.48s/it]"
     ]
    },
    {
     "name": "stdout",
     "output_type": "stream",
     "text": [
      "category:bullet, gend: Energetic plasma bullet sprite sheet animation, pixel art, retro 8-bit style, inspired by classic arcade games, front view, looping effect, (highly detailed:1.3), (animation:1.25), solid teal background, (64K resolution:1.2)., token len: 61\n"
     ]
    },
    {
     "name": "stderr",
     "output_type": "stream",
     "text": [
      "count:60, price:0.9872600000000001:  53%|██████████████████████████████████████████████████████████████████████████████████████▋                                                                             | 65/123 [04:57<04:43,  4.89s/it]"
     ]
    },
    {
     "name": "stdout",
     "output_type": "stream",
     "text": [
      "category:bullet, gend: Animated glowing bullet impact, pixel art animation, retro game style, inspired by 16-bit era console graphics, direct head-on view, loopable sprite sheet effect, with (neon lighting:1.3), (64K resolution:1.25), (high detail pixel render:1.5)., token len: 67\n"
     ]
    },
    {
     "name": "stderr",
     "output_type": "stream",
     "text": [
      "count:61, price:1.00143:  54%|█████████████████████████████████████████████████████████████████████████████████████████████▉                                                                                 | 66/123 [04:58<03:47,  3.98s/it]"
     ]
    },
    {
     "name": "stdout",
     "output_type": "stream",
     "text": [
      "category:bullet, gend: Energetic bullet sprite sheet animation, pixel art style, inspired by classic arcade shooters, centered shot, detailed 64K resolution, bright colors, HDR lighting., token len: 33\n"
     ]
    },
    {
     "name": "stderr",
     "output_type": "stream",
     "text": [
      "count:62, price:1.01653:  54%|███████████████████████████████████████████████████████████████████████████████████████████████▎                                                                               | 67/123 [05:12<06:30,  6.97s/it]"
     ]
    },
    {
     "name": "stdout",
     "output_type": "stream",
     "text": [
      "category:bullet, gend: Energetic plasma bullet sprite sheet effect, digital illustration, pixel art animation, inspired by classic arcade games, 35mm lens, dynamic shot, (8K resolution:1.2), (highly detailed:1.3), (neon lighting:1.25), solid black background, Unreal Engine., token len: 63\n"
     ]
    },
    {
     "name": "stderr",
     "output_type": "stream",
     "text": [
      "count:63, price:1.0312999999999999:  55%|██████████████████████████████████████████████████████████████████████████████████████████▋                                                                         | 68/123 [05:15<05:07,  5.59s/it]"
     ]
    },
    {
     "name": "stdout",
     "output_type": "stream",
     "text": [
      "category:bullet, gend: Glowing teal bullet sprite effect animation, pixel art, inspired by 16-bit era game graphics, Deviantart, front view, loopable action, (neon lighting:1.5), (high resolution:1.3), solid black background., token len: 51\n"
     ]
    },
    {
     "name": "stderr",
     "output_type": "stream",
     "text": [
      "count:64, price:1.04625:  56%|██████████████████████████████████████████████████████████████████████████████████████████████████▏                                                                            | 69/123 [05:18<04:16,  4.74s/it]"
     ]
    },
    {
     "name": "stdout",
     "output_type": "stream",
     "text": [
      "category:bullet, gend: Energetic bullet sprite animation, pixel art, 8-bit style inspired by classic arcade games, solid black background, centered, dynamic light effects, high-definition pixels, (vivid colors:1.5), (64K resolution:1.25), (animation:1.3)., token len: 61\n"
     ]
    },
    {
     "name": "stderr",
     "output_type": "stream",
     "text": [
      "count:65, price:1.0607199999999999:  57%|█████████████████████████████████████████████████████████████████████████████████████████████▎                                                                      | 70/123 [05:20<03:30,  3.97s/it]"
     ]
    },
    {
     "name": "stdout",
     "output_type": "stream",
     "text": [
      "category:bullet, gend: Pulsating energy bullet sprite sheet, pixel art, inspired by 16-bit era games, dark solid background, 3/4 view, high resolution, neon glow effect, (animation:1.5)., token len: 45\n"
     ]
    },
    {
     "name": "stderr",
     "output_type": "stream",
     "text": [
      "count:66, price:1.07713:  58%|█████████████████████████████████████████████████████████████████████████████████████████████████████                                                                          | 71/123 [05:34<06:01,  6.94s/it]"
     ]
    },
    {
     "name": "stdout",
     "output_type": "stream",
     "text": [
      "category:bullet, gend: Energetic bullet sprite sheet effect animation, pixel art, cyberpunk aesthetic, inspired by Deviantart, camera front view, short telephoto lens, animation sequence, (neon lighting:1.3), (high resolution:1.25)., token len: 48\n"
     ]
    },
    {
     "name": "stderr",
     "output_type": "stream",
     "text": [
      "count:67, price:1.09178:  59%|██████████████████████████████████████████████████████████████████████████████████████████████████████▍                                                                        | 72/123 [05:37<04:54,  5.78s/it]"
     ]
    },
    {
     "name": "stdout",
     "output_type": "stream",
     "text": [
      "category:bullet, gend: Dynamic bullet impact sprite sheet, pixel art animation, retro video game style, inspired by 8-bit classics, centered shot, with (glowing effect:1.3), 32-bit color depth, (high resolution:1.2)., token len: 51\n"
     ]
    },
    {
     "name": "stderr",
     "output_type": "stream",
     "text": [
      "count:68, price:1.11237:  59%|███████████████████████████████████████████████████████████████████████████████████████████████████████▊                                                                       | 73/123 [05:40<04:07,  4.96s/it]"
     ]
    },
    {
     "name": "stdout",
     "output_type": "stream",
     "text": [
      "category:bullet, gend: Energetic plasma bullet sprite sheet effect animation, digital illustration, pixel art, inspired by classic SNES shooters, high angle, dynamic motion blur, 8-bit color depth with glowing neon accents, (ArtStation:1.2), (Deviantart:0.8), (ambient light:1.15), (side-view:1.3), retro gaming aesthetic., token len: 76\n"
     ]
    },
    {
     "name": "stderr",
     "output_type": "stream",
     "text": [
      "count:69, price:1.1322400000000001:  60%|██████████████████████████████████████████████████████████████████████████████████████████████████▋                                                                 | 74/123 [05:52<05:56,  7.27s/it]"
     ]
    },
    {
     "name": "stdout",
     "output_type": "stream",
     "text": [
      "category:bullet, gend: Enchanted flaming bullet, sprite sheet animation, pixel art, inspired by classic arcade games, solid dark background, side view, (render: low poly), (lighting: dynamic contrast), (detail: highly detailed), (artstation:1.2)., token len: 52\n"
     ]
    },
    {
     "name": "stderr",
     "output_type": "stream",
     "text": [
      "count:70, price:1.15179:  61%|██████████████████████████████████████████████████████████████████████████████████████████████████████████▋                                                                    | 75/123 [05:55<04:36,  5.77s/it]"
     ]
    },
    {
     "name": "stdout",
     "output_type": "stream",
     "text": [
      "category:explosion, gend: Dynamic explosion sprite sheet, pixel art animation, 8-bit style, inspired by classic arcade games, side view, medium shot, high resolution (64K), (vibrant colors:1.5)., token len: 43\n"
     ]
    },
    {
     "name": "stderr",
     "output_type": "stream",
     "text": [
      "count:71, price:1.1668100000000001:  62%|█████████████████████████████████████████████████████████████████████████████████████████████████████▎                                                              | 76/123 [06:04<05:25,  6.93s/it]"
     ]
    },
    {
     "name": "stdout",
     "output_type": "stream",
     "text": [
      "category:explosion, gend: Dynamic explosion sequence, sprite sheet animation, pixel art style, influenced by 16-bit era video games, side view, high resolution, (particle effects:1.3), (animation:1.5), (vivid colors:1.25), 16-bit color depth, solid color background., token len: 65\n"
     ]
    },
    {
     "name": "stderr",
     "output_type": "stream",
     "text": [
      "count:72, price:1.18141:  63%|█████████████████████████████████████████████████████████████████████████████████████████████████████████████▌                                                                 | 77/123 [06:09<04:45,  6.20s/it]"
     ]
    },
    {
     "name": "stdout",
     "output_type": "stream",
     "text": [
      "category:explosion, gend: Intense pixel art explosion, animated sprite sheet, retro game style, inspired by classic 16-bit games, side view, highly detailed, (4K:1.2), (HDR:1.25), solid black background., token len: 50\n"
     ]
    },
    {
     "name": "stderr",
     "output_type": "stream",
     "text": [
      "count:73, price:1.19598:  63%|██████████████████████████████████████████████████████████████████████████████████████████████████████████████▉                                                                | 78/123 [06:11<03:43,  4.98s/it]"
     ]
    },
    {
     "name": "stdout",
     "output_type": "stream",
     "text": [
      "category:explosion, gend: Bright fiery explosion, pixel art animation sprite sheet, 16-bit era style, inspired by classic arcade games, centered shot, high resolution, vivid orange and red palette with glow effects, (isometric view:1.2)., token len: 49\n"
     ]
    },
    {
     "name": "stderr",
     "output_type": "stream",
     "text": [
      "count:74, price:1.21061:  64%|████████████████████████████████████████████████████████████████████████████████████████████████████████████████▍                                                              | 79/123 [06:17<03:58,  5.42s/it]"
     ]
    },
    {
     "name": "stdout",
     "output_type": "stream",
     "text": [
      "category:explosion, gend: Retro pixel-art explosion, sprite sheet animation, 8-bit style, inspired by classic arcade games, centered, long shot, (vivid colors:1.2), (64K resolution:1.3), simple black background., token len: 50\n"
     ]
    },
    {
     "name": "stderr",
     "output_type": "stream",
     "text": [
      "count:75, price:1.22521:  65%|█████████████████████████████████████████████████████████████████████████████████████████████████████████████████▊                                                             | 80/123 [06:21<03:27,  4.83s/it]"
     ]
    },
    {
     "name": "stdout",
     "output_type": "stream",
     "text": [
      "category:explosion, gend: Vivid explosion animation sequence, pixel art, 8-bit style, inspired by classic arcade games, centered shot, high resolution, (impactful explosion:1.5), (pixel clarity:1.25), black solid background., token len: 48\n"
     ]
    },
    {
     "name": "stderr",
     "output_type": "stream",
     "text": [
      "count:76, price:1.23966:  66%|███████████████████████████████████████████████████████████████████████████████████████████████████████████████████▏                                                           | 81/123 [06:24<02:59,  4.27s/it]"
     ]
    },
    {
     "name": "stdout",
     "output_type": "stream",
     "text": [
      "category:explosion, gend: Intense explosion animation sprite sheet, digital illustration, pixel art style, inspired by 16-bit era video games, solid dark background, isometric view, 4K resolution, vivid colors, sharp focus., token len: 43\n"
     ]
    },
    {
     "name": "stderr",
     "output_type": "stream",
     "text": [
      "count:77, price:1.25435:  67%|████████████████████████████████████████████████████████████████████████████████████████████████████████████████████▋                                                          | 82/123 [06:26<02:34,  3.77s/it]"
     ]
    },
    {
     "name": "stdout",
     "output_type": "stream",
     "text": [
      "category:explosion, gend: Intense fireball explosion, pixel art animation spritesheet, game design, inspired by classic arcade games, straight-on camera, frame by frame, (8-bit color palette:1.5), (high resolution:1.25), ambient light., token len: 54\n"
     ]
    },
    {
     "name": "stderr",
     "output_type": "stream",
     "text": [
      "count:78, price:1.27062:  67%|██████████████████████████████████████████████████████████████████████████████████████████████████████████████████████                                                         | 83/123 [06:32<02:54,  4.37s/it]"
     ]
    },
    {
     "name": "stdout",
     "output_type": "stream",
     "text": [
      "category:explosion, gend: Animated explosion sprite effect, digital illustration, pixel art, inspired by classic arcade games, centered shot, detailed with dynamic lighting (artstation:1.2) (pixel density:1.25) on a solid black background., token len: 49\n"
     ]
    },
    {
     "name": "stderr",
     "output_type": "stream",
     "text": [
      "count:79, price:1.2868000000000002:  68%|████████████████████████████████████████████████████████████████████████████████████████████████████████████████                                                    | 84/123 [06:35<02:34,  3.95s/it]"
     ]
    },
    {
     "name": "stdout",
     "output_type": "stream",
     "text": [
      "category:explosion, gend: Dynamic cartoon-style explosion, sprite sheet animation, crisp flat colors, inspired by 16-bit era video games, solid background, isometric view, highly detailed (animation:1.5), 4K resolution., token len: 46\n"
     ]
    },
    {
     "name": "stderr",
     "output_type": "stream",
     "text": [
      "count:80, price:1.3014000000000001:  69%|█████████████████████████████████████████████████████████████████████████████████████████████████████████████████▎                                                  | 85/123 [06:38<02:15,  3.56s/it]"
     ]
    },
    {
     "name": "stdout",
     "output_type": "stream",
     "text": [
      "category:explosion, gend: Retro-style explosion, pixel art, 8-bit style, inspired by classic arcade games, side view, frame-by-frame animation, 4K, vibrant orange and yellow colors, sharp focus, high contrast, solid black background., token len: 50\n"
     ]
    },
    {
     "name": "stderr",
     "output_type": "stream",
     "text": [
      "count:81, price:1.31606:  70%|██████████████████████████████████████████████████████████████████████████████████████████████████████████████████████████▎                                                    | 86/123 [06:41<02:03,  3.34s/it]"
     ]
    },
    {
     "name": "stdout",
     "output_type": "stream",
     "text": [
      "category:explosion, gend: Dynamically expanding explosion, pixel art animation, 8-bit style, inspired by classic arcade games, solid black background, front view, sprite sheet format, (high resolution:1.25), (vivid colors:1.5)., token len: 50\n"
     ]
    },
    {
     "name": "stderr",
     "output_type": "stream",
     "text": [
      "count:82, price:1.3357:  71%|████████████████████████████████████████████████████████████████████████████████████████████████████████████████████████████▍                                                   | 87/123 [06:45<02:08,  3.57s/it]"
     ]
    },
    {
     "name": "stdout",
     "output_type": "stream",
     "text": [
      "category:explosion, gend: Dynamic explosion sprite sheet effect, digital illustration, 2D game art, inspired by classic arcade games, side view, medium shot, UHD, bright colors, sharp focus, (animation smoothness:1.5), token len: 46\n"
     ]
    },
    {
     "name": "stderr",
     "output_type": "stream",
     "text": [
      "count:83, price:1.3504800000000001:  72%|█████████████████████████████████████████████████████████████████████████████████████████████████████████████████████▎                                              | 88/123 [06:49<02:12,  3.79s/it]"
     ]
    },
    {
     "name": "stdout",
     "output_type": "stream",
     "text": [
      "category:explosion, gend: Expanding fireball explosion, pixel art animation, retro 16-bit style, influenced by ArtStation game sprites, camera front view, medium shot, 4K resolution with (dynamic lighting:1.3), (frame-by-frame animation:1.5)., token len: 56\n"
     ]
    },
    {
     "name": "stderr",
     "output_type": "stream",
     "text": [
      "count:84, price:1.36514:  72%|██████████████████████████████████████████████████████████████████████████████████████████████████████████████████████████████▋                                                | 89/123 [06:53<02:07,  3.74s/it]"
     ]
    },
    {
     "name": "stdout",
     "output_type": "stream",
     "text": [
      "category:explosion, gend: Explosive fireball animation, pixel art, retro game-inspired, influenced by 16-bit classics, centered shot, detail-focused, (high resolution:1.5), (vivid colors:1.25) on solid black background., token len: 51\n"
     ]
    },
    {
     "name": "stderr",
     "output_type": "stream",
     "text": [
      "count:85, price:1.38019:  73%|████████████████████████████████████████████████████████████████████████████████████████████████████████████████████████████████                                               | 90/123 [06:56<02:01,  3.67s/it]"
     ]
    },
    {
     "name": "stdout",
     "output_type": "stream",
     "text": [
      "category:explosion, gend: Radiant explosion effect animation, sprite sheet, pixel art, inspired by classic arcade games, straight-on camera, fixed shot, high detail on a solid black background, neon lighting (vibrancy:1.3), (8-bit color depth:1.2), (Unity Engine:1.1)., token len: 64\n"
     ]
    },
    {
     "name": "stderr",
     "output_type": "stream",
     "text": [
      "count:86, price:1.3951200000000001:  74%|█████████████████████████████████████████████████████████████████████████████████████████████████████████████████████████▎                                          | 91/123 [07:01<02:09,  4.06s/it]"
     ]
    },
    {
     "name": "stdout",
     "output_type": "stream",
     "text": [
      "category:explosion, gend: Intense fiery explosion with dynamic debris, pixel art, retro game style, inspired by classic arcade games, straight-on camera, medium shot, 8-bit color depth, (high resolution:1.25), (sharp focus:1.1), (lighting:1.2), token len: 60\n"
     ]
    },
    {
     "name": "stderr",
     "output_type": "stream",
     "text": [
      "count:87, price:1.41178:  75%|██████████████████████████████████████████████████████████████████████████████████████████████████████████████████████████████████▉                                            | 92/123 [07:04<01:52,  3.61s/it]"
     ]
    },
    {
     "name": "stdout",
     "output_type": "stream",
     "text": [
      "category:explosion, gend: Intense fireball explosion, animated pixel art, inspired by classic arcade games, centered on a solid black background, dynamic lighting, focused medium shot, (8-bit:1.5) style, (vivid colors:1.25), (frame-by-frame animation:1.3)., token len: 62\n"
     ]
    },
    {
     "name": "stderr",
     "output_type": "stream",
     "text": [
      "count:88, price:1.43136:  76%|████████████████████████████████████████████████████████████████████████████████████████████████████████████████████████████████████▎                                          | 93/123 [07:08<01:54,  3.81s/it]"
     ]
    },
    {
     "name": "stdout",
     "output_type": "stream",
     "text": [
      "category:explosion, gend: Vibrant explosion effect, digital sprite sheet animation, pixel art style, inspired by retro arcade games, static camera, full shot, glowing particles detail (hdr:1.25), (resolution:4K)., token len: 44\n"
     ]
    },
    {
     "name": "stderr",
     "output_type": "stream",
     "text": [
      "count:89, price:1.44605:  76%|█████████████████████████████████████████████████████████████████████████████████████████████████████████████████████████████████████▋                                         | 94/123 [07:12<01:53,  3.90s/it]"
     ]
    },
    {
     "name": "stdout",
     "output_type": "stream",
     "text": [
      "category:explosion, gend: Fiery explosion sprite sheet animation, pixel art, retro game style, influenced by 16-bit era graphics, front view, medium shot, (vivid colors:1.2) (high resolution:1.25), purple solid color background., token len: 52\n"
     ]
    },
    {
     "name": "stderr",
     "output_type": "stream",
     "text": [
      "count:90, price:1.46029:  77%|███████████████████████████████████████████████████████████████████████████████████████████████████████████████████████████████████████▏                                       | 95/123 [07:15<01:37,  3.49s/it]"
     ]
    },
    {
     "name": "stdout",
     "output_type": "stream",
     "text": [
      "category:explosion, gend: Animated explosion sequence, pixel art, retro game style, inspired by classic arcade games, side view, detailed pixels, 8-bit color palette, looping gif with seamless frames., token len: 38\n"
     ]
    },
    {
     "name": "stderr",
     "output_type": "stream",
     "text": [
      "count:91, price:1.4749800000000002:  78%|████████████████████████████████████████████████████████████████████████████████████████████████████████████████████████████████                                    | 96/123 [07:17<01:28,  3.27s/it]"
     ]
    },
    {
     "name": "stdout",
     "output_type": "stream",
     "text": [
      "category:explosion, gend: Vibrant explosion animation, pixel art, retro gaming style, inspired by classic arcade games, solid teal background, full shot, (8-bit color depth:1.5) (dynamic lighting:1.25), high-resolution sprite sheet effect., token len: 53\n"
     ]
    },
    {
     "name": "stderr",
     "output_type": "stream",
     "text": [
      "count:92, price:1.4902100000000003:  79%|█████████████████████████████████████████████████████████████████████████████████████████████████████████████████████████████████▎                                  | 97/123 [07:23<01:46,  4.10s/it]"
     ]
    },
    {
     "name": "stdout",
     "output_type": "stream",
     "text": [
      "category:explosion, gend: Vibrant pixel art explosion, frame-by-frame animation, retro gaming inspiration, with a black solid background, 8-bit style, inspired by classic arcade games, smooth looping animation, digital illustration, central framing, with high contrast and vivid colors, designed for an action-packed platformer game, pixel density 1x1 for authenticity., token len: 71\n"
     ]
    },
    {
     "name": "stderr",
     "output_type": "stream",
     "text": [
      "count:93, price:1.5046300000000004:  80%|██████████████████████████████████████████████████████████████████████████████████████████████████████████████████████████████████▋                                 | 98/123 [07:31<02:12,  5.29s/it]"
     ]
    },
    {
     "name": "stdout",
     "output_type": "stream",
     "text": [
      "category:explosion, gend: Explosion sprite sheet animation, pixel art, video game style, inspired by classic arcade games, front view, detailed with black solid background, 8-bit color depth, crisp sharp focus, high resolution., token len: 42\n"
     ]
    },
    {
     "name": "stderr",
     "output_type": "stream",
     "text": [
      "count:94, price:1.5196200000000004:  80%|████████████████████████████████████████████████████████████████████████████████████████████████████████████████████████████████████                                | 99/123 [07:33<01:43,  4.32s/it]"
     ]
    },
    {
     "name": "stdout",
     "output_type": "stream",
     "text": [
      "category:explosion, gend: Explosive fireball mid-detonation, pixel art sprite sheet, 8-bit retro style, inspired by classic arcade games, simple black background, high resolution (4K), side view, looping animation, (vivid colors:1.5), (dynamic lighting:1.25)., token len: 60\n"
     ]
    },
    {
     "name": "stderr",
     "output_type": "stream",
     "text": [
      "count:95, price:1.5341000000000005:  81%|████████████████████████████████████████████████████████████████████████████████████████████████████████████████████████████████████▌                              | 100/123 [07:37<01:31,  3.99s/it]"
     ]
    },
    {
     "name": "stdout",
     "output_type": "stream",
     "text": [
      "category:explosion, gend: Intense fiery explosion, pixel art, game sprite sheet effect, influenced by classic 16-bit video games, front view, animated sequence, vivid colors, (8-bit console:1.3), high resolution., token len: 46\n"
     ]
    },
    {
     "name": "stderr",
     "output_type": "stream",
     "text": [
      "count:96, price:1.5490000000000004:  82%|█████████████████████████████████████████████████████████████████████████████████████████████████████████████████████████████████████▊                             | 101/123 [07:39<01:17,  3.51s/it]"
     ]
    },
    {
     "name": "stdout",
     "output_type": "stream",
     "text": [
      "category:explosion, gend: Expanding energy shockwave, pixel art sprite sheet, 8-bit style, inspired by classic arcade games, solid dark background, dynamic front camera view, loop animation, (high contrast:1.5) (vivid green palette:1.25), pixel-perfect render., token len: 58\n"
     ]
    },
    {
     "name": "stderr",
     "output_type": "stream",
     "text": [
      "count:97, price:1.5638100000000004:  83%|███████████████████████████████████████████████████████████████████████████████████████████████████████████████████████████████████████▏                           | 102/123 [07:42<01:07,  3.21s/it]"
     ]
    },
    {
     "name": "stdout",
     "output_type": "stream",
     "text": [
      "category:explosion, gend: Expansive explosion effect animation, pixel art, retro gaming inspired, referencing Deviantart, from top view, medium shot, 8-bit color depth, hyperdetailed animation frames, (luminosity:1.3), (contrast:1.2)., token len: 51\n"
     ]
    },
    {
     "name": "stderr",
     "output_type": "stream",
     "text": [
      "count:98, price:1.5785300000000004:  84%|████████████████████████████████████████████████████████████████████████████████████████████████████████████████████████████████████████▍                          | 103/123 [07:51<01:40,  5.03s/it]"
     ]
    },
    {
     "name": "stdout",
     "output_type": "stream",
     "text": [
      "category:explosion, gend: Intense nuclear explosion, animated sprite sheet, pixel art style, inspired by classic 16-bit video games, centered camera, full shot, 8K resolution with (vivid colors:1.5) and (high detail:1.3)., token len: 51\n"
     ]
    },
    {
     "name": "stderr",
     "output_type": "stream",
     "text": [
      "count:99, price:1.5933100000000004:  85%|█████████████████████████████████████████████████████████████████████████████████████████████████████████████████████████████████████████▊                         | 104/123 [08:12<03:08,  9.93s/it]"
     ]
    },
    {
     "name": "stdout",
     "output_type": "stream",
     "text": [
      "category:explosion, gend: Explosive fireball effect, digital animation, game art, inspired by Jason Keyser, wide angle, sprite sheet sequence, (high resolution:1.2), (vivid colors:1.25), (frame-by-frame animation:1.3)., token len: 54\n"
     ]
    },
    {
     "name": "stderr",
     "output_type": "stream",
     "text": [
      "count:100, price:1.6079700000000003:  85%|██████████████████████████████████████████████████████████████████████████████████████████████████████████████████████████████████████████▎                       | 105/123 [08:16<02:27,  8.21s/it]"
     ]
    },
    {
     "name": "stdout",
     "output_type": "stream",
     "text": [
      "category:explosion, gend: Animated fiery explosion, pixel art, inspired by 16-bit video games, solid color background, high angle, loopable sprite sheet effect(animation:1.5), (vivid colors:1.25), 8-bit inspired audio response effect, token len: 53\n"
     ]
    },
    {
     "name": "stderr",
     "output_type": "stream",
     "text": [
      "count:101, price:1.6223300000000003:  86%|███████████████████████████████████████████████████████████████████████████████████████████████████████████████████████████████████████████▌                      | 106/123 [08:21<02:02,  7.23s/it]"
     ]
    },
    {
     "name": "stdout",
     "output_type": "stream",
     "text": [
      "category:explosion, gend: Explosive mushroom cloud animation, pixel art, 8-bit style inspired by classic arcade games, solid black background, medium shot, high resolution, (sprite sheet effect:1.3)., token len: 39\n"
     ]
    },
    {
     "name": "stderr",
     "output_type": "stream",
     "text": [
      "count:102, price:1.6363900000000002:  87%|████████████████████████████████████████████████████████████████████████████████████████████████████████████████████████████████████████████▉                     | 107/123 [08:23<01:28,  5.54s/it]"
     ]
    },
    {
     "name": "stdout",
     "output_type": "stream",
     "text": [
      "category:explosion, gend: Dynamic explosion sprite sheet, pixel art, inspired by classic arcade games, sharp focus, low angle, 8-bit color palette, high resolution., token len: 31\n"
     ]
    },
    {
     "name": "stderr",
     "output_type": "stream",
     "text": [
      "count:103, price:1.6510800000000003:  88%|██████████████████████████████████████████████████████████████████████████████████████████████████████████████████████████████████████████████▏                   | 108/123 [08:28<01:20,  5.38s/it]"
     ]
    },
    {
     "name": "stdout",
     "output_type": "stream",
     "text": [
      "category:explosion, gend: Pixel-art style explosion, sprite sheet animation, inspired by 16-bit era video games, side view, high resolution, with vivid colors, on a solid color background, (pixel density:1.5), (frame rate:1.25)., token len: 55\n"
     ]
    },
    {
     "name": "stderr",
     "output_type": "stream",
     "text": [
      "count:104, price:1.6656800000000003:  89%|███████████████████████████████████████████████████████████████████████████████████████████████████████████████████████████████████████████████▌                  | 109/123 [08:32<01:08,  4.87s/it]"
     ]
    },
    {
     "name": "stdout",
     "output_type": "stream",
     "text": [
      "category:explosion, gend: Explosion sprite sheet for game, pixel art, retro style, inspired by 8-bit classics, solid color background, static camera, full shot, high resolution (pixels:1.5), (ArtStation:1.2)., token len: 48\n"
     ]
    },
    {
     "name": "stderr",
     "output_type": "stream",
     "text": [
      "count:105, price:1.6851400000000003:  89%|████████████████████████████████████████████████████████████████████████████████████████████████████████████████████████████████████████████████▉                 | 110/123 [08:39<01:11,  5.48s/it]"
     ]
    },
    {
     "name": "stdout",
     "output_type": "stream",
     "text": [
      "category:sword slash, gend: Energetic sword slash effect animation, pixel art, fantasy game-inspired, ArtStation, front view, static shot, 8K detailed resolution, bright fantasy vivid colors, glowing neon lighting., token len: 39\n"
     ]
    },
    {
     "name": "stderr",
     "output_type": "stream",
     "text": [
      "count:106, price:1.6999500000000003:  90%|██████████████████████████████████████████████████████████████████████████████████████████████████████████████████████████████████████████████████▏               | 111/123 [08:41<00:55,  4.59s/it]"
     ]
    },
    {
     "name": "stdout",
     "output_type": "stream",
     "text": [
      "category:sword slash, gend: Energetic sword slash animation sequence, pixel art, 8-bit style, inspired by classic arcade games, front camera, sequence shot, bright neon contrasting colors on a solid black background, pixel-perfect detail (resolution:2), (brightness:1.5)., token len: 54\n"
     ]
    },
    {
     "name": "stderr",
     "output_type": "stream",
     "text": [
      "count:107, price:1.7142800000000002:  91%|███████████████████████████████████████████████████████████████████████████████████████████████████████████████████████████████████████████████████▌              | 112/123 [08:43<00:40,  3.67s/it]"
     ]
    },
    {
     "name": "stdout",
     "output_type": "stream",
     "text": [
      "category:sword slash, gend: Energetic sword slash animation, pixel art, retro game style, influenced by 16-bit era RPGs, centralized on canvas, sprite sheet effect, resolution detailed, bright dynamic lighting., token len: 40\n"
     ]
    },
    {
     "name": "stderr",
     "output_type": "stream",
     "text": [
      "count:108, price:1.7291200000000002:  92%|████████████████████████████████████████████████████████████████████████████████████████████████████████████████████████████████████████████████████▊             | 113/123 [08:46<00:35,  3.55s/it]"
     ]
    },
    {
     "name": "stdout",
     "output_type": "stream",
     "text": [
      "category:sword slash, gend: Energetic sword slash effect, pixel art animation, 8-bit style, inspired by classic SNES games, straight-on camera, action shot, with (shiny metallic texture:1.3) and (glowing edge:1.25), solid black background., token len: 54\n"
     ]
    },
    {
     "name": "stderr",
     "output_type": "stream",
     "text": [
      "count:109, price:1.7438100000000003:  93%|██████████████████████████████████████████████████████████████████████████████████████████████████████████████████████████████████████████████████████▏           | 114/123 [08:54<00:45,  5.00s/it]"
     ]
    },
    {
     "name": "stdout",
     "output_type": "stream",
     "text": [
      "category:sword slash, gend: Energetic sword slash animation, pixel art, inspired by classic SNES games, (ArtStation:1.2), centered medium shot, (8-bit color palette:1.3), (animation:1.5), solid black background., token len: 50\n"
     ]
    },
    {
     "name": "stderr",
     "output_type": "stream",
     "text": [
      "count:110, price:1.7586800000000002:  93%|███████████████████████████████████████████████████████████████████████████████████████████████████████████████████████████████████████████████████████▍          | 115/123 [08:57<00:34,  4.33s/it]"
     ]
    },
    {
     "name": "stdout",
     "output_type": "stream",
     "text": [
      "category:sword slash, gend: Energetic green sword slash effect, pixel art animation, 8-bit style, inspired by classic arcade games, direct view, loopable sequence, neon lighting on solid black background, (resolution:4K) (frame rate:24 fps), (render:pixel perfect)., token len: 57\n"
     ]
    },
    {
     "name": "stderr",
     "output_type": "stream",
     "text": [
      "count:111, price:1.7750100000000002:  94%|████████████████████████████████████████████████████████████████████████████████████████████████████████████████████████████████████████████████████████▊         | 116/123 [08:59<00:25,  3.67s/it]"
     ]
    },
    {
     "name": "stdout",
     "output_type": "stream",
     "text": [
      "category:sword slash, gend: Energetic sword slash effect animation, pixel art, inspired by classic 16-bit RPGs, ArtStation, high angle, detailed with (dynamic lighting:1.25), solid black background, (high resolution:1.2)., token len: 50\n"
     ]
    },
    {
     "name": "stderr",
     "output_type": "stream",
     "text": [
      "count:112, price:1.7896100000000001:  95%|██████████████████████████████████████████████████████████████████████████████████████████████████████████████████████████████████████████████████████████        | 117/123 [09:01<00:19,  3.23s/it]"
     ]
    },
    {
     "name": "stdout",
     "output_type": "stream",
     "text": [
      "category:sword slash, gend: Energetic sword slash animation, pixel art, 8-bit style, inspired by classic arcade games, side view, medium shot, high resolution with neon blue hues and dynamic lighting effects, seamless looping(sprite sheet:1.5)., token len: 49\n"
     ]
    },
    {
     "name": "stderr",
     "output_type": "stream",
     "text": [
      "count:113, price:1.8049300000000001:  96%|███████████████████████████████████████████████████████████████████████████████████████████████████████████████████████████████████████████████████████████▍      | 118/123 [09:14<00:30,  6.18s/it]"
     ]
    },
    {
     "name": "stdout",
     "output_type": "stream",
     "text": [
      "category:sword slash, gend: Energetic sword slash effect, pixel art animation, fantasy game inspired, (Deviantart:1.2), (ArtStation:1.1), dynamic angle, action shot, (8-bit:1.5), (smooth frame transitions:1.3), black solid background, (high-resolution:1.25), vivid blue tones., token len: 72\n"
     ]
    },
    {
     "name": "stderr",
     "output_type": "stream",
     "text": [
      "count:114, price:1.8194100000000002:  97%|████████████████████████████████████████████████████████████████████████████████████████████████████████████████████████████████████████████████████████████▋     | 119/123 [09:19<00:23,  5.76s/it]"
     ]
    },
    {
     "name": "stdout",
     "output_type": "stream",
     "text": [
      "category:sword slash, gend: Animated sword slash effect, pixel art, 8-bit style, inspired by classic arcade games, side camera, action sequence shot, (high resolution:1.2), (solid black background:1.5)., token len: 45\n"
     ]
    },
    {
     "name": "stderr",
     "output_type": "stream",
     "text": [
      "count:115, price:1.8429600000000002:  98%|██████████████████████████████████████████████████████████████████████████████████████████████████████████████████████████████████████████████████████████████    | 120/123 [09:23<00:15,  5.20s/it]"
     ]
    },
    {
     "name": "stdout",
     "output_type": "stream",
     "text": [
      "category:sword slash, gend: Luminous sword slash effect, pixel art, fantasy, inspired by classic 16-bit RPGs, static camera, full shot, vivid colors with (lighting:1.5) on a solid black background, (high resolution:1.25), (frame by frame animation:1.5)., token len: 63\n"
     ]
    },
    {
     "name": "stderr",
     "output_type": "stream",
     "text": [
      "count:116, price:1.8577700000000001:  98%|███████████████████████████████████████████████████████████████████████████████████████████████████████████████████████████████████████████████████████████████▎  | 121/123 [09:28<00:10,  5.08s/it]"
     ]
    },
    {
     "name": "stdout",
     "output_type": "stream",
     "text": [
      "category:sword slash, gend: Animated sword slash effect, pixel art animation, retro game-inspired, 8-bit style, on solid dark background, side view, high resolution, loopable sprite sheet sequence, (lighting: neon blue glow), SNES era, (detail:1.5)., token len: 55\n"
     ]
    },
    {
     "name": "stderr",
     "output_type": "stream",
     "text": [
      "count:117, price:1.87237:  99%|███████████████████████████████████████████████████████████████████████████████████████████████████████████████████████████████████████████████████████████████████████████▌ | 122/123 [09:37<00:06,  6.28s/it]"
     ]
    },
    {
     "name": "stdout",
     "output_type": "stream",
     "text": [
      "category:sword slash, gend: Animated sword slash effect, sprite sheet for game, pixel art style, inspired by classic 16-bit RPGs, medium telephoto lens, isometric view, high detail with a solid black background, (weight:1.5)., token len: 50\n"
     ]
    },
    {
     "name": "stderr",
     "output_type": "stream",
     "text": [
      "count:118, price:1.8876600000000001: 100%|██████████████████████████████████████████████████████████████████████████████████████████████████████████████████████████████████████████████████████████████████| 123/123 [09:40<00:00,  4.72s/it]"
     ]
    },
    {
     "name": "stdout",
     "output_type": "stream",
     "text": [
      "category:sword slash, gend: Energetic sword slash effect animation, pixel art, inspired by classic JRPGs, solid black background, (ArtStation:1.2), (DeviantArt:0.8), wide angle, action shot, (8-bit:1.5) style, (vivid blue neon lighting:1.25), loopable sequence., token len: 68\n"
     ]
    },
    {
     "name": "stderr",
     "output_type": "stream",
     "text": [
      "\n"
     ]
    }
   ],
   "source": [
    "new_descs = []\n",
    "total_price = 0\n",
    "to_iter = tqdm(glob('/Users/l_y_o/Work/AnimateDiff/data/*/*'))\n",
    "for f in to_iter:\n",
    "    filename = os.path.basename(f)\n",
    "    ext = os.path.splitext(filename)[1]\n",
    "\n",
    "    #if ext not in ['.csv', '.ipynb', '.html', '.htm']:\n",
    "    if ext in ['.gif', '.webp']:\n",
    "        last_dir = Path(f).parts[-2]\n",
    "        #existed = (filename in df['file name'].tolist())\n",
    "        #print(f\"filename: {filename}, ext: {ext}, dir: {last_dir}, existed:{existed}\")\n",
    "        to_append = {}\n",
    "        to_append['file name'] = filename\n",
    "\n",
    "        price, desc = gpt4_get_img_desc(f, 'ext'[1:], last_dir)\n",
    "        to_append['category'] = last_dir\n",
    "        to_append['description'] = desc\n",
    "        token_len = len(tk(desc).input_ids)\n",
    "        to_append['token_len'] = token_len\n",
    "\n",
    "        print(f\"category:{last_dir}, gend: {desc}, token len: {token_len}\")\n",
    "        new_descs.append(to_append)\n",
    "        total_price += price\n",
    "\n",
    "        to_iter.set_description(f\"count:{len(new_descs)}, price:{total_price}\")"
   ]
  },
  {
   "cell_type": "code",
   "execution_count": 30,
   "id": "a9c603a7-9c28-4fd6-a6e4-7cf21acf094e",
   "metadata": {},
   "outputs": [
    {
     "name": "stdout",
     "output_type": "stream",
     "text": [
      "after append: 118\n"
     ]
    },
    {
     "data": {
      "text/html": [
       "<div>\n",
       "<style scoped>\n",
       "    .dataframe tbody tr th:only-of-type {\n",
       "        vertical-align: middle;\n",
       "    }\n",
       "\n",
       "    .dataframe tbody tr th {\n",
       "        vertical-align: top;\n",
       "    }\n",
       "\n",
       "    .dataframe thead th {\n",
       "        text-align: right;\n",
       "    }\n",
       "</style>\n",
       "<table border=\"1\" class=\"dataframe\">\n",
       "  <thead>\n",
       "    <tr style=\"text-align: right;\">\n",
       "      <th></th>\n",
       "      <th>file name</th>\n",
       "      <th>category</th>\n",
       "      <th>description</th>\n",
       "      <th>token_len</th>\n",
       "    </tr>\n",
       "  </thead>\n",
       "  <tbody>\n",
       "    <tr>\n",
       "      <th>0</th>\n",
       "      <td>JV24kJi.gif</td>\n",
       "      <td>smoke</td>\n",
       "      <td>Swirling smoke animation, pixel art, fantasy g...</td>\n",
       "      <td>42</td>\n",
       "    </tr>\n",
       "    <tr>\n",
       "      <th>1</th>\n",
       "      <td>3fe3291bf506e4c66dddd3b6f51b7656_w200.gif</td>\n",
       "      <td>smoke</td>\n",
       "      <td>Animated dispersing smoke, pixel art, inspired...</td>\n",
       "      <td>54</td>\n",
       "    </tr>\n",
       "    <tr>\n",
       "      <th>2</th>\n",
       "      <td>olga-ryzhychenko-31.gif</td>\n",
       "      <td>smoke</td>\n",
       "      <td>Billowing smoke animation, pixel art, 8-bit st...</td>\n",
       "      <td>56</td>\n",
       "    </tr>\n",
       "    <tr>\n",
       "      <th>3</th>\n",
       "      <td>EEPpNs.gif</td>\n",
       "      <td>smoke</td>\n",
       "      <td>Billowing smoke plumes, sprite sheet animation...</td>\n",
       "      <td>52</td>\n",
       "    </tr>\n",
       "    <tr>\n",
       "      <th>4</th>\n",
       "      <td>giphy.gif</td>\n",
       "      <td>smoke</td>\n",
       "      <td>Billowing smoke animation, pixel art, 8-bit st...</td>\n",
       "      <td>51</td>\n",
       "    </tr>\n",
       "    <tr>\n",
       "      <th>...</th>\n",
       "      <td>...</td>\n",
       "      <td>...</td>\n",
       "      <td>...</td>\n",
       "      <td>...</td>\n",
       "    </tr>\n",
       "    <tr>\n",
       "      <th>113</th>\n",
       "      <td>3n6JbPc.gif</td>\n",
       "      <td>sword slash</td>\n",
       "      <td>Animated sword slash effect, pixel art, 8-bit ...</td>\n",
       "      <td>45</td>\n",
       "    </tr>\n",
       "    <tr>\n",
       "      <th>114</th>\n",
       "      <td>kaitlyn-wohlmuth-slashcircle.gif</td>\n",
       "      <td>sword slash</td>\n",
       "      <td>Luminous sword slash effect, pixel art, fantas...</td>\n",
       "      <td>63</td>\n",
       "    </tr>\n",
       "    <tr>\n",
       "      <th>115</th>\n",
       "      <td>manga-flourish.gif</td>\n",
       "      <td>sword slash</td>\n",
       "      <td>Animated sword slash effect, pixel art animati...</td>\n",
       "      <td>55</td>\n",
       "    </tr>\n",
       "    <tr>\n",
       "      <th>116</th>\n",
       "      <td>4096d1659e8c58bb51375133ab5f459e.gif</td>\n",
       "      <td>sword slash</td>\n",
       "      <td>Animated sword slash effect, sprite sheet for ...</td>\n",
       "      <td>50</td>\n",
       "    </tr>\n",
       "    <tr>\n",
       "      <th>117</th>\n",
       "      <td>OQP6.gif</td>\n",
       "      <td>sword slash</td>\n",
       "      <td>Energetic sword slash effect animation, pixel ...</td>\n",
       "      <td>68</td>\n",
       "    </tr>\n",
       "  </tbody>\n",
       "</table>\n",
       "<p>118 rows × 4 columns</p>\n",
       "</div>"
      ],
      "text/plain": [
       "                                     file name     category  \\\n",
       "0                                  JV24kJi.gif        smoke   \n",
       "1    3fe3291bf506e4c66dddd3b6f51b7656_w200.gif        smoke   \n",
       "2                      olga-ryzhychenko-31.gif        smoke   \n",
       "3                                   EEPpNs.gif        smoke   \n",
       "4                                    giphy.gif        smoke   \n",
       "..                                         ...          ...   \n",
       "113                                3n6JbPc.gif  sword slash   \n",
       "114           kaitlyn-wohlmuth-slashcircle.gif  sword slash   \n",
       "115                         manga-flourish.gif  sword slash   \n",
       "116       4096d1659e8c58bb51375133ab5f459e.gif  sword slash   \n",
       "117                                   OQP6.gif  sword slash   \n",
       "\n",
       "                                           description  token_len  \n",
       "0    Swirling smoke animation, pixel art, fantasy g...         42  \n",
       "1    Animated dispersing smoke, pixel art, inspired...         54  \n",
       "2    Billowing smoke animation, pixel art, 8-bit st...         56  \n",
       "3    Billowing smoke plumes, sprite sheet animation...         52  \n",
       "4    Billowing smoke animation, pixel art, 8-bit st...         51  \n",
       "..                                                 ...        ...  \n",
       "113  Animated sword slash effect, pixel art, 8-bit ...         45  \n",
       "114  Luminous sword slash effect, pixel art, fantas...         63  \n",
       "115  Animated sword slash effect, pixel art animati...         55  \n",
       "116  Animated sword slash effect, sprite sheet for ...         50  \n",
       "117  Energetic sword slash effect animation, pixel ...         68  \n",
       "\n",
       "[118 rows x 4 columns]"
      ]
     },
     "execution_count": 30,
     "metadata": {},
     "output_type": "execute_result"
    }
   ],
   "source": [
    "import pandas as pd\n",
    "\n",
    "df = pd.DataFrame(new_descs)\n",
    "\n",
    "\n",
    "print(f\"after append: {len(df)}\")\n",
    "\n",
    "df"
   ]
  },
  {
   "cell_type": "markdown",
   "id": "e000f40a-1b8f-48ca-8a8c-1e59ebada113",
   "metadata": {},
   "source": [
    "# save"
   ]
  },
  {
   "cell_type": "code",
   "execution_count": 31,
   "id": "b1f49372-fe3a-446a-ab47-15df079d8644",
   "metadata": {},
   "outputs": [
    {
     "data": {
      "text/plain": [
       "1704429483"
      ]
     },
     "execution_count": 31,
     "metadata": {},
     "output_type": "execute_result"
    }
   ],
   "source": [
    "import time\n",
    "ts = int(time.time())\n",
    "ts"
   ]
  },
  {
   "cell_type": "code",
   "execution_count": 32,
   "id": "1291fdf4-c813-4655-839f-a5b8b448da5e",
   "metadata": {},
   "outputs": [],
   "source": [
    "df.to_csv(f'sprite_sheet_{ts}_training_refined_prompts.csv')"
   ]
  },
  {
   "cell_type": "code",
   "execution_count": null,
   "id": "e58da499-81b9-4220-8ca6-ea13239b5efa",
   "metadata": {},
   "outputs": [],
   "source": []
  },
  {
   "cell_type": "markdown",
   "id": "8e7367b5-9981-4190-ae5b-85fbb6fa73bf",
   "metadata": {},
   "source": [
    "# gen ainiated diff dataset csv"
   ]
  },
  {
   "cell_type": "code",
   "execution_count": 33,
   "id": "bad8f65e-8295-4418-bc71-a8a6e8c5c7b2",
   "metadata": {},
   "outputs": [
    {
     "data": {
      "text/html": [
       "<div>\n",
       "<style scoped>\n",
       "    .dataframe tbody tr th:only-of-type {\n",
       "        vertical-align: middle;\n",
       "    }\n",
       "\n",
       "    .dataframe tbody tr th {\n",
       "        vertical-align: top;\n",
       "    }\n",
       "\n",
       "    .dataframe thead th {\n",
       "        text-align: right;\n",
       "    }\n",
       "</style>\n",
       "<table border=\"1\" class=\"dataframe\">\n",
       "  <thead>\n",
       "    <tr style=\"text-align: right;\">\n",
       "      <th></th>\n",
       "      <th>file name</th>\n",
       "      <th>category</th>\n",
       "      <th>description</th>\n",
       "      <th>token_len</th>\n",
       "    </tr>\n",
       "  </thead>\n",
       "  <tbody>\n",
       "    <tr>\n",
       "      <th>0</th>\n",
       "      <td>JV24kJi.gif</td>\n",
       "      <td>smoke</td>\n",
       "      <td>Swirling smoke animation, pixel art, fantasy g...</td>\n",
       "      <td>42</td>\n",
       "    </tr>\n",
       "    <tr>\n",
       "      <th>1</th>\n",
       "      <td>3fe3291bf506e4c66dddd3b6f51b7656_w200.gif</td>\n",
       "      <td>smoke</td>\n",
       "      <td>Animated dispersing smoke, pixel art, inspired...</td>\n",
       "      <td>54</td>\n",
       "    </tr>\n",
       "    <tr>\n",
       "      <th>2</th>\n",
       "      <td>olga-ryzhychenko-31.gif</td>\n",
       "      <td>smoke</td>\n",
       "      <td>Billowing smoke animation, pixel art, 8-bit st...</td>\n",
       "      <td>56</td>\n",
       "    </tr>\n",
       "    <tr>\n",
       "      <th>3</th>\n",
       "      <td>EEPpNs.gif</td>\n",
       "      <td>smoke</td>\n",
       "      <td>Billowing smoke plumes, sprite sheet animation...</td>\n",
       "      <td>52</td>\n",
       "    </tr>\n",
       "    <tr>\n",
       "      <th>4</th>\n",
       "      <td>giphy.gif</td>\n",
       "      <td>smoke</td>\n",
       "      <td>Billowing smoke animation, pixel art, 8-bit st...</td>\n",
       "      <td>51</td>\n",
       "    </tr>\n",
       "    <tr>\n",
       "      <th>...</th>\n",
       "      <td>...</td>\n",
       "      <td>...</td>\n",
       "      <td>...</td>\n",
       "      <td>...</td>\n",
       "    </tr>\n",
       "    <tr>\n",
       "      <th>113</th>\n",
       "      <td>3n6JbPc.gif</td>\n",
       "      <td>sword slash</td>\n",
       "      <td>Animated sword slash effect, pixel art, 8-bit ...</td>\n",
       "      <td>45</td>\n",
       "    </tr>\n",
       "    <tr>\n",
       "      <th>114</th>\n",
       "      <td>kaitlyn-wohlmuth-slashcircle.gif</td>\n",
       "      <td>sword slash</td>\n",
       "      <td>Luminous sword slash effect, pixel art, fantas...</td>\n",
       "      <td>63</td>\n",
       "    </tr>\n",
       "    <tr>\n",
       "      <th>115</th>\n",
       "      <td>manga-flourish.gif</td>\n",
       "      <td>sword slash</td>\n",
       "      <td>Animated sword slash effect, pixel art animati...</td>\n",
       "      <td>55</td>\n",
       "    </tr>\n",
       "    <tr>\n",
       "      <th>116</th>\n",
       "      <td>4096d1659e8c58bb51375133ab5f459e.gif</td>\n",
       "      <td>sword slash</td>\n",
       "      <td>Animated sword slash effect, sprite sheet for ...</td>\n",
       "      <td>50</td>\n",
       "    </tr>\n",
       "    <tr>\n",
       "      <th>117</th>\n",
       "      <td>OQP6.gif</td>\n",
       "      <td>sword slash</td>\n",
       "      <td>Energetic sword slash effect animation, pixel ...</td>\n",
       "      <td>68</td>\n",
       "    </tr>\n",
       "  </tbody>\n",
       "</table>\n",
       "<p>118 rows × 4 columns</p>\n",
       "</div>"
      ],
      "text/plain": [
       "                                     file name     category  \\\n",
       "0                                  JV24kJi.gif        smoke   \n",
       "1    3fe3291bf506e4c66dddd3b6f51b7656_w200.gif        smoke   \n",
       "2                      olga-ryzhychenko-31.gif        smoke   \n",
       "3                                   EEPpNs.gif        smoke   \n",
       "4                                    giphy.gif        smoke   \n",
       "..                                         ...          ...   \n",
       "113                                3n6JbPc.gif  sword slash   \n",
       "114           kaitlyn-wohlmuth-slashcircle.gif  sword slash   \n",
       "115                         manga-flourish.gif  sword slash   \n",
       "116       4096d1659e8c58bb51375133ab5f459e.gif  sword slash   \n",
       "117                                   OQP6.gif  sword slash   \n",
       "\n",
       "                                           description  token_len  \n",
       "0    Swirling smoke animation, pixel art, fantasy g...         42  \n",
       "1    Animated dispersing smoke, pixel art, inspired...         54  \n",
       "2    Billowing smoke animation, pixel art, 8-bit st...         56  \n",
       "3    Billowing smoke plumes, sprite sheet animation...         52  \n",
       "4    Billowing smoke animation, pixel art, 8-bit st...         51  \n",
       "..                                                 ...        ...  \n",
       "113  Animated sword slash effect, pixel art, 8-bit ...         45  \n",
       "114  Luminous sword slash effect, pixel art, fantas...         63  \n",
       "115  Animated sword slash effect, pixel art animati...         55  \n",
       "116  Animated sword slash effect, sprite sheet for ...         50  \n",
       "117  Energetic sword slash effect animation, pixel ...         68  \n",
       "\n",
       "[118 rows x 4 columns]"
      ]
     },
     "execution_count": 33,
     "metadata": {},
     "output_type": "execute_result"
    }
   ],
   "source": [
    "df"
   ]
  },
  {
   "cell_type": "code",
   "execution_count": 34,
   "id": "9378f4fc-bba1-4da2-82f3-ab516c5c329e",
   "metadata": {},
   "outputs": [
    {
     "name": "stderr",
     "output_type": "stream",
     "text": [
      "100%|████████████████████████████████████████████████████████████████████████████████████████████████████████████████████████████████████████████████████████████████████████████████████████████████████| 118/118 [00:00<00:00, 12609.31it/s]\n"
     ]
    }
   ],
   "source": [
    "import os\n",
    "from tqdm import tqdm\n",
    "\n",
    "#to_iter = tqdm(glob('/Users/l_y_o/Work/AnimateDiff/data/*/*'))\n",
    "\n",
    "WebVid10MDataset_items = []\n",
    "\n",
    "for i, r in tqdm(df.iterrows(), total=len(df)):\n",
    "    filename = os.path.basename(r['file name'])\n",
    "    ext = os.path.splitext(filename)[1]\n",
    "    filename_no_ext = os.path.splitext(filename)[0]\n",
    "\n",
    "    #if ext not in ['.csv', '.ipynb', '.html', '.htm']:\n",
    "    to_append = {}\n",
    "    if ext in ['.gif', '.webp']:\n",
    "        to_append['name'] = r['description']\n",
    "        to_append['videoid'] = filename_no_ext\n",
    "        to_append['page_dir'] = r['category']\n",
    "        to_append['file_ext'] = ext[1:]\n",
    "        to_append['token_len'] = r['token_len']\n",
    "        \n",
    "\n",
    "        WebVid10MDataset_items.append(to_append)"
   ]
  },
  {
   "cell_type": "code",
   "execution_count": 35,
   "id": "a31352bb-2985-471b-9f77-077b48127704",
   "metadata": {},
   "outputs": [],
   "source": [
    "new_df = pd.DataFrame(WebVid10MDataset_items)\n",
    "new_df.to_csv(f'animated_diff_ds_{ts}_refined_prompts.csv')"
   ]
  },
  {
   "cell_type": "code",
   "execution_count": 36,
   "id": "1c85ff94-5ddc-45fc-afa8-45f40a93be4a",
   "metadata": {},
   "outputs": [
    {
     "data": {
      "text/html": [
       "<div>\n",
       "<style scoped>\n",
       "    .dataframe tbody tr th:only-of-type {\n",
       "        vertical-align: middle;\n",
       "    }\n",
       "\n",
       "    .dataframe tbody tr th {\n",
       "        vertical-align: top;\n",
       "    }\n",
       "\n",
       "    .dataframe thead th {\n",
       "        text-align: right;\n",
       "    }\n",
       "</style>\n",
       "<table border=\"1\" class=\"dataframe\">\n",
       "  <thead>\n",
       "    <tr style=\"text-align: right;\">\n",
       "      <th></th>\n",
       "      <th>name</th>\n",
       "      <th>videoid</th>\n",
       "      <th>page_dir</th>\n",
       "      <th>file_ext</th>\n",
       "      <th>token_len</th>\n",
       "    </tr>\n",
       "  </thead>\n",
       "  <tbody>\n",
       "    <tr>\n",
       "      <th>0</th>\n",
       "      <td>Swirling smoke animation, pixel art, fantasy g...</td>\n",
       "      <td>JV24kJi</td>\n",
       "      <td>smoke</td>\n",
       "      <td>gif</td>\n",
       "      <td>42</td>\n",
       "    </tr>\n",
       "    <tr>\n",
       "      <th>1</th>\n",
       "      <td>Animated dispersing smoke, pixel art, inspired...</td>\n",
       "      <td>3fe3291bf506e4c66dddd3b6f51b7656_w200</td>\n",
       "      <td>smoke</td>\n",
       "      <td>gif</td>\n",
       "      <td>54</td>\n",
       "    </tr>\n",
       "    <tr>\n",
       "      <th>2</th>\n",
       "      <td>Billowing smoke animation, pixel art, 8-bit st...</td>\n",
       "      <td>olga-ryzhychenko-31</td>\n",
       "      <td>smoke</td>\n",
       "      <td>gif</td>\n",
       "      <td>56</td>\n",
       "    </tr>\n",
       "    <tr>\n",
       "      <th>3</th>\n",
       "      <td>Billowing smoke plumes, sprite sheet animation...</td>\n",
       "      <td>EEPpNs</td>\n",
       "      <td>smoke</td>\n",
       "      <td>gif</td>\n",
       "      <td>52</td>\n",
       "    </tr>\n",
       "    <tr>\n",
       "      <th>4</th>\n",
       "      <td>Billowing smoke animation, pixel art, 8-bit st...</td>\n",
       "      <td>giphy</td>\n",
       "      <td>smoke</td>\n",
       "      <td>gif</td>\n",
       "      <td>51</td>\n",
       "    </tr>\n",
       "    <tr>\n",
       "      <th>...</th>\n",
       "      <td>...</td>\n",
       "      <td>...</td>\n",
       "      <td>...</td>\n",
       "      <td>...</td>\n",
       "      <td>...</td>\n",
       "    </tr>\n",
       "    <tr>\n",
       "      <th>113</th>\n",
       "      <td>Animated sword slash effect, pixel art, 8-bit ...</td>\n",
       "      <td>3n6JbPc</td>\n",
       "      <td>sword slash</td>\n",
       "      <td>gif</td>\n",
       "      <td>45</td>\n",
       "    </tr>\n",
       "    <tr>\n",
       "      <th>114</th>\n",
       "      <td>Luminous sword slash effect, pixel art, fantas...</td>\n",
       "      <td>kaitlyn-wohlmuth-slashcircle</td>\n",
       "      <td>sword slash</td>\n",
       "      <td>gif</td>\n",
       "      <td>63</td>\n",
       "    </tr>\n",
       "    <tr>\n",
       "      <th>115</th>\n",
       "      <td>Animated sword slash effect, pixel art animati...</td>\n",
       "      <td>manga-flourish</td>\n",
       "      <td>sword slash</td>\n",
       "      <td>gif</td>\n",
       "      <td>55</td>\n",
       "    </tr>\n",
       "    <tr>\n",
       "      <th>116</th>\n",
       "      <td>Animated sword slash effect, sprite sheet for ...</td>\n",
       "      <td>4096d1659e8c58bb51375133ab5f459e</td>\n",
       "      <td>sword slash</td>\n",
       "      <td>gif</td>\n",
       "      <td>50</td>\n",
       "    </tr>\n",
       "    <tr>\n",
       "      <th>117</th>\n",
       "      <td>Energetic sword slash effect animation, pixel ...</td>\n",
       "      <td>OQP6</td>\n",
       "      <td>sword slash</td>\n",
       "      <td>gif</td>\n",
       "      <td>68</td>\n",
       "    </tr>\n",
       "  </tbody>\n",
       "</table>\n",
       "<p>118 rows × 5 columns</p>\n",
       "</div>"
      ],
      "text/plain": [
       "                                                  name  \\\n",
       "0    Swirling smoke animation, pixel art, fantasy g...   \n",
       "1    Animated dispersing smoke, pixel art, inspired...   \n",
       "2    Billowing smoke animation, pixel art, 8-bit st...   \n",
       "3    Billowing smoke plumes, sprite sheet animation...   \n",
       "4    Billowing smoke animation, pixel art, 8-bit st...   \n",
       "..                                                 ...   \n",
       "113  Animated sword slash effect, pixel art, 8-bit ...   \n",
       "114  Luminous sword slash effect, pixel art, fantas...   \n",
       "115  Animated sword slash effect, pixel art animati...   \n",
       "116  Animated sword slash effect, sprite sheet for ...   \n",
       "117  Energetic sword slash effect animation, pixel ...   \n",
       "\n",
       "                                   videoid     page_dir file_ext  token_len  \n",
       "0                                  JV24kJi        smoke      gif         42  \n",
       "1    3fe3291bf506e4c66dddd3b6f51b7656_w200        smoke      gif         54  \n",
       "2                      olga-ryzhychenko-31        smoke      gif         56  \n",
       "3                                   EEPpNs        smoke      gif         52  \n",
       "4                                    giphy        smoke      gif         51  \n",
       "..                                     ...          ...      ...        ...  \n",
       "113                                3n6JbPc  sword slash      gif         45  \n",
       "114           kaitlyn-wohlmuth-slashcircle  sword slash      gif         63  \n",
       "115                         manga-flourish  sword slash      gif         55  \n",
       "116       4096d1659e8c58bb51375133ab5f459e  sword slash      gif         50  \n",
       "117                                   OQP6  sword slash      gif         68  \n",
       "\n",
       "[118 rows x 5 columns]"
      ]
     },
     "execution_count": 36,
     "metadata": {},
     "output_type": "execute_result"
    }
   ],
   "source": [
    "new_df"
   ]
  },
  {
   "cell_type": "markdown",
   "id": "9b9cde7b-9455-4f05-8019-2d73eecfdd37",
   "metadata": {},
   "source": [
    "# zip everything"
   ]
  },
  {
   "cell_type": "code",
   "execution_count": 18,
   "id": "3ff48ae4-4593-4091-ba72-df19fe9d5dcd",
   "metadata": {},
   "outputs": [
    {
     "name": "stdout",
     "output_type": "stream",
     "text": [
      "  adding: smoke/ (stored 0%)\n",
      "  adding: smoke/JV24kJi.gif (deflated 1%)\n",
      "  adding: smoke/3fe3291bf506e4c66dddd3b6f51b7656_w200.gif (deflated 1%)\n",
      "  adding: smoke/olga-ryzhychenko-31.gif (deflated 3%)\n",
      "  adding: smoke/EEPpNs.gif (deflated 0%)\n",
      "  adding: smoke/giphy.gif (deflated 0%)\n",
      "  adding: smoke/jeong-h-lee-ezgif-com-resize.gif (deflated 3%)\n",
      "  adding: smoke/ezgif.com-video-to-gif+(14).gif (deflated 1%)\n",
      "  adding: smoke/761391_6bc8c.gif (deflated 15%)\n",
      "  adding: smoke/ea9ff4824adba932f227084b09d0ec1e.gif (deflated 0%)\n",
      "  adding: smoke/3MfZ.gif (deflated 2%)\n",
      "  adding: smoke/2296431_9c6f7.gif (deflated 22%)\n",
      "  adding: smoke/image_processing20210614-9899-1rfm6to.gif (deflated 1%)\n",
      "  adding: lazer beam/ (stored 0%)\n",
      "  adding: lazer beam/Lazer.webp (deflated 0%)\n",
      "  adding: lazer beam/source.gif (deflated 0%)\n",
      "  adding: lazer beam/1223f768fd2005bb421094e80c6b1da1.gif (deflated 2%)\n",
      "  adding: lazer beam/SpaceWarp-Interactive-Art-IKONIX-low.gif (deflated 2%)\n",
      "  adding: lazer beam/Purple_Beam_buff.webp (deflated 1%)\n",
      "  adding: lazer beam/dcrjrui-5baabde8-4494-4ae5-8427-c3e5588598a7.gif (deflated 15%)\n",
      "  adding: lazer beam/530934b3ec4ba0a8533d319147ed3301.gif (deflated 0%)\n",
      "  adding: lazer beam/600244a253e0f707519756077a534933.gif (deflated 0%)\n",
      "  adding: lazer beam/d74kefa-d3488cf5-a9d7-4e9d-9f57-7f9f19c708d8.gif (deflated 11%)\n",
      "  adding: lazer beam/dbzw1sw-6d998e1e-032f-4e9f-b39c-1c1c4a892c7f.gif (deflated 3%)\n",
      "  adding: .DS_Store (deflated 86%)\n",
      "  adding: need_process/ (stored 0%)\n",
      "  adding: need_process/explosion-sprites.gif (deflated 0%)\n",
      "  adding: sprite_sheet_000_training.csv (deflated 67%)\n",
      "  adding: animated_diff_ds.csv (deflated 71%)\n",
      "  adding: sprite_sheet_001_training.csv (deflated 71%)\n",
      "  adding: fire/ (stored 0%)\n",
      "  adding: fire/6f081c95e1d4bfea095132e71d68940c.gif (deflated 0%)\n",
      "  adding: fire/tenor.gif (deflated 5%)\n",
      "  adding: fire/d8litsm-ba1af0d2-6d4c-4396-acdb-4f5ae157417e.gif (deflated 4%)\n",
      "  adding: fire/9ed10bd927654351cfb7afd1dd68a2bbb88ffc4a.gif (deflated 0%)\n",
      "  adding: fire/344300ea30a2b20c93607276f03b024b.gif (deflated 0%)\n",
      "  adding: fire/gif_Fireball_Alpha_Right.gif (deflated 1%)\n",
      "  adding: fire/8c4243960da81dba835adc6bbbcfda27.gif (deflated 0%)\n",
      "  adding: fire/dfwxu7s-4134dc21-1fa7-4a83-afc6-990602f33b9e.gif (deflated 1%)\n",
      "  adding: fire/6585923a2ae2ad2b36f0fdec921869be (1).gif (deflated 4%)\n",
      "  adding: fire/justine-delagarde-flamme-anim.gif (deflated 0%)\n",
      "  adding: fire/4273.html (deflated 89%)\n",
      "  adding: fire/camp-smp.gif (deflated 10%)\n",
      "  adding: fire/dcrjk0t-0c09f95a-ebfe-4435-a3cc-4857feb8518d.gif (deflated 28%)\n",
      "  adding: fire/6585923a2ae2ad2b36f0fdec921869be.gif (deflated 4%)\n",
      "  adding: fire/1956552089burning-fireball-animated-gif-image.gif (deflated 3%)\n",
      "  adding: fire/i-pixelated-the-camp-fire-animation-from-this-link-credit-to-mare_15.gif (deflated 4%)\n",
      "  adding: fire/animated-pixel-torch.html (deflated 79%)\n",
      "  adding: fire/image_processing20210904-17525-qs4jbf.gif (deflated 2%)\n",
      "  adding: fire/Fire Animation.gif (deflated 11%)\n",
      "  adding: fire/gZJ0w-.gif (deflated 4%)\n",
      "  adding: fire/download (1).html (deflated 87%)\n",
      "  adding: fire/bfc71d599c4f5f2fd6722bd656b08598.gif (deflated 0%)\n",
      "  adding: fire/d9dd657cfef3fb5188596ace989a7dd7_w200.gif (deflated 1%)\n",
      "  adding: fire/5144904ffac5f2f7195c3975b80618be.gif (deflated 2%)\n",
      "  adding: fire/bfc71d599c4f5f2fd6722bd656b08598 (1).gif (deflated 0%)\n",
      "  adding: fire/daniel-tolwinski-ognisko11111111slowertho.gif (deflated 1%)\n",
      "  adding: fire/sdujh7d8yzea1.gif (deflated 1%)\n",
      "  adding: fire/michael-ha-fireball.gif (deflated 1%)\n",
      "  adding: fire/6ac7576758871443b78d2a557297bee6.gif (deflated 7%)\n",
      "  adding: fire/YDyzw.html (deflated 82%)\n",
      "  adding: fire/Z5r4Ro.webp (deflated 10%)\n",
      "  adding: fire/qa1itlgvb9f11.gif (deflated 1%)\n",
      "  adding: fire/download.html (deflated 87%)\n",
      "  adding: fire/rowan-rees-fireball.gif (deflated 0%)\n",
      "  adding: fire/fireball-fire.gif (deflated 4%)\n",
      "  adding: fire/Torch_Gif.gif (deflated 7%)\n",
      "  adding: fire/fire-sphere-spell.gif (deflated 0%)\n",
      "  adding: fire/12af711515dda548b39fe97683f3e618.gif (deflated 0%)\n",
      "  adding: fire/Z5r4Ro (1).webp (deflated 10%)\n",
      "  adding: fire/joe-griffin-fire-animation.gif (deflated 2%)\n",
      "  adding: fire/fire-17.gif (deflated 2%)\n",
      "  adding: bullet/ (stored 0%)\n",
      "  adding: bullet/db9d7d318004e340ab96151c30623a47.gif (deflated 1%)\n",
      "  adding: bullet/00ec7e42197611.57d10a237d0a9.gif (deflated 2%)\n",
      "  adding: bullet/eg_fireball_sprite_by_toneyhadnotjr-d7zb5fk.gif (deflated 25%)\n",
      "  adding: bullet/Spiritian.gif (deflated 0%)\n",
      "  adding: bullet/Fishman-Fireball-v2-copy.gif (deflated 0%)\n",
      "  adding: bullet/dbcm9sp-22cee56b-9065-4018-a906-04e5a4181d45.gif (deflated 5%)\n",
      "  adding: bullet/87410797cf3e6ed4d7df4d4b05136a9b.gif (deflated 0%)\n",
      "  adding: bullet/miguel-oses-fx-projectile-plasma-00-migueloses.gif (deflated 1%)\n",
      "  adding: bullet/369e9ceeb279785e7a86bed68490af92.gif (deflated 2%)\n",
      "  adding: bullet/d59cx79-428e9e8c-b19a-48b2-9f0b-f65a980782f0.gif (deflated 1%)\n",
      "  adding: bullet/d59cx19-428688c9-7e37-4500-8eb1-203189668f99.gif (deflated 2%)\n",
      "  adding: explosion/ (stored 0%)\n",
      "  adding: explosion/dceg9oe-2c0baeae-20a3-48d4-b7f2-6312af7c595e.gif (deflated 23%)\n",
      "  adding: explosion/giphy (1).gif (deflated 0%)\n",
      "  adding: explosion/b16a53b26834f0420689bfb72cf5f4b5.gif (deflated 1%)\n",
      "  adding: explosion/d97lofa-5445e62e-8a1b-42f6-b48f-c6fd7252ce99.gif (deflated 0%)\n",
      "  adding: explosion/FMyNIp.gif (deflated 12%)\n",
      "  adding: explosion/c404d6f85b798ecec06e9ccab238350a.gif (deflated 2%)\n",
      "  adding: explosion/d9fk5mh-4ce586e4-4ed6-4e17-8aa4-b724ee0705af.gif (deflated 42%)\n",
      "  adding: explosion/d43612896ed91c111a46c2965c9e7f25_w200.gif (deflated 1%)\n",
      "  adding: explosion/d8tjr80-7837c30c-989d-426d-8434-f66b06ea3376.gif (deflated 0%)\n",
      "  adding: explosion/icegif-801.gif (deflated 2%)\n",
      "  adding: explosion/623cdcca882db2d7efa8d32424a61d29_w200 (1).gif (deflated 18%)\n",
      "  adding: explosion/Sn++u+.gif (deflated 9%)\n",
      "  adding: explosion/image_processing20210614-9714-18s4gy9.gif (deflated 0%)\n",
      "  adding: explosion/explosion-gif-3.gif (deflated 1%)\n",
      "  adding: explosion/giphy.gif (deflated 0%)\n",
      "  adding: explosion/c0da65ceb7a8adba107b174d38e7660a.gif (deflated 0%)\n",
      "  adding: explosion/Special_Effect_-_Explosion.webp (deflated 1%)\n",
      "  adding: explosion/cute-explosion-clipart-so7sjopm9f5ofrfe.gif (deflated 2%)\n",
      "  adding: explosion/explosion_01_dribbble.gif (deflated 3%)\n",
      "  adding: explosion/d9fk5xs-e6a13c38-92b6-4726-b81b-4d4b6216dd46.gif (deflated 12%)\n",
      "  adding: explosion/2342061_cf355.gif (deflated 2%)\n",
      "  adding: explosion/d2d43bj-7fcc6bd2-3a14-464e-8999-780cd9a88d83.gif (deflated 1%)\n",
      "  adding: explosion/623cdcca882db2d7efa8d32424a61d29_w200.gif (deflated 18%)\n",
      "  adding: explosion/cmorrow-as-pe-effect-001.gif (deflated 2%)\n",
      "  adding: explosion/933419296explosion-animation-1.gif (deflated 2%)\n",
      "  adding: explosion/2ad97b6d8912ef66ccbb992556c54266.gif (deflated 1%)\n",
      "  adding: explosion/4b422b24490597.597ec8fd508b9.gif (deflated 0%)\n",
      "  adding: explosion/35b30196ef2b645810ea0f89ab9201e7_w200.gif (deflated 1%)\n",
      "  adding: explosion/1f0V.gif (deflated 1%)\n",
      "  adding: explosion/ec967b9266ad22b5373f7fcb564cfb74.gif (deflated 0%)\n",
      "  adding: explosion/d9fk5v7-7a6da9c8-0db3-433a-9dbf-002c07d00607.gif (deflated 14%)\n",
      "  adding: explosion/ac7eabd26717ce9bb84ef7f9b6207c14.gif (deflated 1%)\n",
      "  adding: explosion/d7ac4f38b77abe73165d85edf2cbdb9e_w200.gif (deflated 1%)\n",
      "  adding: explosion/explosion-gif.gif (deflated 1%)\n",
      "  adding: explosion/DyRj.gif (deflated 3%)\n",
      "  adding: sword slash/ (stored 0%)\n",
      "  adding: sword slash/tatjana-strauch-hansluther-sword-slash-animation2.gif (deflated 0%)\n",
      "  adding: sword slash/rbcCfh.gif (deflated 3%)\n",
      "  adding: sword slash/3265770856c8527946e0ce362ef0c221_w200.gif (deflated 5%)\n",
      "  adding: sword slash/325813ddc1101d534d0f8eb3c980a50f_w200.gif (deflated 2%)\n",
      "  adding: sword slash/0a5ca8304eff3687a8ab7fa57554e279_w200.gif (deflated 11%)\n",
      "  adding: sword slash/f2469579c3b289cd45395989dd84faf0.gif (deflated 6%)\n",
      "  adding: sword slash/708643a699f92c9f73a1cd1f81a3e3d0.gif (deflated 2%)\n",
      "  adding: sword slash/70gnDj.gif (deflated 3%)\n",
      "  adding: sword slash/feb5b28027e9cbf42c1fde5c304d69dd.gif (deflated 3%)\n",
      "  adding: sword slash/3n6JbPc.gif (deflated 7%)\n",
      "  adding: sword slash/kaitlyn-wohlmuth-slashcircle.gif (deflated 3%)\n",
      "  adding: sword slash/manga-flourish.gif (deflated 1%)\n",
      "  adding: sword slash/4096d1659e8c58bb51375133ab5f459e.gif (deflated 4%)\n",
      "  adding: sword slash/OQP6.gif (deflated 3%)\n",
      "  adding: .ipynb_checkpoints/ (stored 0%)\n",
      "  adding: .ipynb_checkpoints/gen_descs-checkpoint.ipynb (deflated 25%)\n",
      "  adding: gen_descs.ipynb (deflated 25%)\n"
     ]
    }
   ],
   "source": [
    "!zip -r sprite_sheet.zip ."
   ]
  },
  {
   "cell_type": "code",
   "execution_count": 19,
   "id": "1e909c5d-da1f-4203-b010-91df9ae07832",
   "metadata": {},
   "outputs": [
    {
     "name": "stdout",
     "output_type": "stream",
     "text": [
      "-rw-r--r--  1 l_y_o  staff   138M Jan  3 17:52 sprite_sheet.zip\n"
     ]
    }
   ],
   "source": [
    "!ls -lth sprite_sheet.zip"
   ]
  },
  {
   "cell_type": "code",
   "execution_count": null,
   "id": "50e36ff9-8ae5-43b1-8bd8-c0e1715eb34a",
   "metadata": {},
   "outputs": [],
   "source": []
  }
 ],
 "metadata": {
  "kernelspec": {
   "display_name": "Python 3 (ipykernel)",
   "language": "python",
   "name": "python3"
  },
  "language_info": {
   "codemirror_mode": {
    "name": "ipython",
    "version": 3
   },
   "file_extension": ".py",
   "mimetype": "text/x-python",
   "name": "python",
   "nbconvert_exporter": "python",
   "pygments_lexer": "ipython3",
   "version": "3.11.5"
  }
 },
 "nbformat": 4,
 "nbformat_minor": 5
}
